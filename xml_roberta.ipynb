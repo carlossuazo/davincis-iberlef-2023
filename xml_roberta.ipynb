{
  "cells": [
    {
      "cell_type": "code",
      "execution_count": 2,
      "metadata": {
        "colab": {
          "base_uri": "https://localhost:8080/"
        },
        "id": "GrNtLxhN475j",
        "outputId": "4f15b46f-d51f-4d76-d091-c52df0edae1b"
      },
      "outputs": [
        {
          "name": "stdout",
          "output_type": "stream",
          "text": [
            "Requirement already satisfied: transformers in c:\\users\\owner\\anaconda3\\envs\\nlpbook\\lib\\site-packages (4.26.1)\n",
            "Requirement already satisfied: packaging>=20.0 in c:\\users\\owner\\anaconda3\\envs\\nlpbook\\lib\\site-packages (from transformers) (21.3)\n",
            "Requirement already satisfied: huggingface-hub<1.0,>=0.11.0 in c:\\users\\owner\\anaconda3\\envs\\nlpbook\\lib\\site-packages (from transformers) (0.12.1)\n",
            "Requirement already satisfied: regex!=2019.12.17 in c:\\users\\owner\\anaconda3\\envs\\nlpbook\\lib\\site-packages (from transformers) (2022.10.31)\n",
            "Requirement already satisfied: tqdm>=4.27 in c:\\users\\owner\\anaconda3\\envs\\nlpbook\\lib\\site-packages (from transformers) (4.64.1)\n",
            "Requirement already satisfied: tokenizers!=0.11.3,<0.14,>=0.11.1 in c:\\users\\owner\\anaconda3\\envs\\nlpbook\\lib\\site-packages (from transformers) (0.13.2)\n",
            "Requirement already satisfied: pyyaml>=5.1 in c:\\users\\owner\\anaconda3\\envs\\nlpbook\\lib\\site-packages (from transformers) (6.0)\n",
            "Requirement already satisfied: requests in c:\\users\\owner\\anaconda3\\envs\\nlpbook\\lib\\site-packages (from transformers) (2.28.1)\n",
            "Requirement already satisfied: filelock in c:\\users\\owner\\anaconda3\\envs\\nlpbook\\lib\\site-packages (from transformers) (3.9.0)\n",
            "Requirement already satisfied: numpy>=1.17 in c:\\users\\owner\\anaconda3\\envs\\nlpbook\\lib\\site-packages (from transformers) (1.23.4)\n",
            "Requirement already satisfied: typing-extensions>=3.7.4.3 in c:\\users\\owner\\anaconda3\\envs\\nlpbook\\lib\\site-packages (from huggingface-hub<1.0,>=0.11.0->transformers) (4.4.0)\n",
            "Requirement already satisfied: pyparsing!=3.0.5,>=2.0.2 in c:\\users\\owner\\anaconda3\\envs\\nlpbook\\lib\\site-packages (from packaging>=20.0->transformers) (3.0.9)\n",
            "Requirement already satisfied: colorama in c:\\users\\owner\\anaconda3\\envs\\nlpbook\\lib\\site-packages (from tqdm>=4.27->transformers) (0.4.6)\n",
            "Requirement already satisfied: certifi>=2017.4.17 in c:\\users\\owner\\anaconda3\\envs\\nlpbook\\lib\\site-packages (from requests->transformers) (2022.9.24)\n",
            "Requirement already satisfied: charset-normalizer<3,>=2 in c:\\users\\owner\\anaconda3\\envs\\nlpbook\\lib\\site-packages (from requests->transformers) (2.0.4)\n",
            "Requirement already satisfied: idna<4,>=2.5 in c:\\users\\owner\\anaconda3\\envs\\nlpbook\\lib\\site-packages (from requests->transformers) (3.4)\n",
            "Requirement already satisfied: urllib3<1.27,>=1.21.1 in c:\\users\\owner\\anaconda3\\envs\\nlpbook\\lib\\site-packages (from requests->transformers) (1.26.12)\n",
            "Requirement already satisfied: datasets in c:\\users\\owner\\anaconda3\\envs\\nlpbook\\lib\\site-packages (2.10.1)\n",
            "Requirement already satisfied: requests>=2.19.0 in c:\\users\\owner\\anaconda3\\envs\\nlpbook\\lib\\site-packages (from datasets) (2.28.1)\n",
            "Requirement already satisfied: tqdm>=4.62.1 in c:\\users\\owner\\anaconda3\\envs\\nlpbook\\lib\\site-packages (from datasets) (4.64.1)\n",
            "Requirement already satisfied: xxhash in c:\\users\\owner\\anaconda3\\envs\\nlpbook\\lib\\site-packages (from datasets) (3.2.0)\n",
            "Requirement already satisfied: huggingface-hub<1.0.0,>=0.2.0 in c:\\users\\owner\\anaconda3\\envs\\nlpbook\\lib\\site-packages (from datasets) (0.12.1)\n",
            "Requirement already satisfied: packaging in c:\\users\\owner\\anaconda3\\envs\\nlpbook\\lib\\site-packages (from datasets) (21.3)\n",
            "Requirement already satisfied: pyarrow>=6.0.0 in c:\\users\\owner\\anaconda3\\envs\\nlpbook\\lib\\site-packages (from datasets) (11.0.0)\n",
            "Requirement already satisfied: responses<0.19 in c:\\users\\owner\\anaconda3\\envs\\nlpbook\\lib\\site-packages (from datasets) (0.18.0)\n",
            "Requirement already satisfied: pandas in c:\\users\\owner\\anaconda3\\envs\\nlpbook\\lib\\site-packages (from datasets) (1.5.2)\n",
            "Requirement already satisfied: fsspec[http]>=2021.11.1 in c:\\users\\owner\\anaconda3\\envs\\nlpbook\\lib\\site-packages (from datasets) (2023.3.0)\n",
            "Requirement already satisfied: aiohttp in c:\\users\\owner\\anaconda3\\envs\\nlpbook\\lib\\site-packages (from datasets) (3.8.4)\n",
            "Requirement already satisfied: pyyaml>=5.1 in c:\\users\\owner\\anaconda3\\envs\\nlpbook\\lib\\site-packages (from datasets) (6.0)\n",
            "Requirement already satisfied: dill<0.3.7,>=0.3.0 in c:\\users\\owner\\anaconda3\\envs\\nlpbook\\lib\\site-packages (from datasets) (0.3.6)\n",
            "Requirement already satisfied: multiprocess in c:\\users\\owner\\anaconda3\\envs\\nlpbook\\lib\\site-packages (from datasets) (0.70.14)\n",
            "Requirement already satisfied: numpy>=1.17 in c:\\users\\owner\\anaconda3\\envs\\nlpbook\\lib\\site-packages (from datasets) (1.23.4)\n",
            "Requirement already satisfied: aiosignal>=1.1.2 in c:\\users\\owner\\anaconda3\\envs\\nlpbook\\lib\\site-packages (from aiohttp->datasets) (1.3.1)\n",
            "Requirement already satisfied: multidict<7.0,>=4.5 in c:\\users\\owner\\anaconda3\\envs\\nlpbook\\lib\\site-packages (from aiohttp->datasets) (6.0.4)\n",
            "Requirement already satisfied: attrs>=17.3.0 in c:\\users\\owner\\anaconda3\\envs\\nlpbook\\lib\\site-packages (from aiohttp->datasets) (22.1.0)\n",
            "Requirement already satisfied: frozenlist>=1.1.1 in c:\\users\\owner\\anaconda3\\envs\\nlpbook\\lib\\site-packages (from aiohttp->datasets) (1.3.3)\n",
            "Requirement already satisfied: async-timeout<5.0,>=4.0.0a3 in c:\\users\\owner\\anaconda3\\envs\\nlpbook\\lib\\site-packages (from aiohttp->datasets) (4.0.2)\n",
            "Requirement already satisfied: charset-normalizer<4.0,>=2.0 in c:\\users\\owner\\anaconda3\\envs\\nlpbook\\lib\\site-packages (from aiohttp->datasets) (2.0.4)\n",
            "Requirement already satisfied: yarl<2.0,>=1.0 in c:\\users\\owner\\anaconda3\\envs\\nlpbook\\lib\\site-packages (from aiohttp->datasets) (1.8.2)\n",
            "Requirement already satisfied: typing-extensions>=3.7.4.3 in c:\\users\\owner\\anaconda3\\envs\\nlpbook\\lib\\site-packages (from huggingface-hub<1.0.0,>=0.2.0->datasets) (4.4.0)\n",
            "Requirement already satisfied: filelock in c:\\users\\owner\\anaconda3\\envs\\nlpbook\\lib\\site-packages (from huggingface-hub<1.0.0,>=0.2.0->datasets) (3.9.0)\n",
            "Requirement already satisfied: pyparsing!=3.0.5,>=2.0.2 in c:\\users\\owner\\anaconda3\\envs\\nlpbook\\lib\\site-packages (from packaging->datasets) (3.0.9)\n",
            "Requirement already satisfied: certifi>=2017.4.17 in c:\\users\\owner\\anaconda3\\envs\\nlpbook\\lib\\site-packages (from requests>=2.19.0->datasets) (2022.9.24)\n",
            "Requirement already satisfied: urllib3<1.27,>=1.21.1 in c:\\users\\owner\\anaconda3\\envs\\nlpbook\\lib\\site-packages (from requests>=2.19.0->datasets) (1.26.12)\n",
            "Requirement already satisfied: idna<4,>=2.5 in c:\\users\\owner\\anaconda3\\envs\\nlpbook\\lib\\site-packages (from requests>=2.19.0->datasets) (3.4)\n",
            "Requirement already satisfied: colorama in c:\\users\\owner\\anaconda3\\envs\\nlpbook\\lib\\site-packages (from tqdm>=4.62.1->datasets) (0.4.6)\n",
            "Requirement already satisfied: python-dateutil>=2.8.1 in c:\\users\\owner\\anaconda3\\envs\\nlpbook\\lib\\site-packages (from pandas->datasets) (2.8.2)\n",
            "Requirement already satisfied: pytz>=2020.1 in c:\\users\\owner\\anaconda3\\envs\\nlpbook\\lib\\site-packages (from pandas->datasets) (2022.6)\n",
            "Requirement already satisfied: six>=1.5 in c:\\users\\owner\\anaconda3\\envs\\nlpbook\\lib\\site-packages (from python-dateutil>=2.8.1->pandas->datasets) (1.16.0)\n",
            "Requirement already satisfied: umap-learn in c:\\users\\owner\\anaconda3\\envs\\nlpbook\\lib\\site-packages (0.5.3)\n",
            "Requirement already satisfied: tqdm in c:\\users\\owner\\anaconda3\\envs\\nlpbook\\lib\\site-packages (from umap-learn) (4.64.1)\n",
            "Requirement already satisfied: scipy>=1.0 in c:\\users\\owner\\anaconda3\\envs\\nlpbook\\lib\\site-packages (from umap-learn) (1.9.3)\n",
            "Requirement already satisfied: scikit-learn>=0.22 in c:\\users\\owner\\anaconda3\\envs\\nlpbook\\lib\\site-packages (from umap-learn) (1.2.1)\n",
            "Requirement already satisfied: numpy>=1.17 in c:\\users\\owner\\anaconda3\\envs\\nlpbook\\lib\\site-packages (from umap-learn) (1.23.4)\n",
            "Requirement already satisfied: numba>=0.49 in c:\\users\\owner\\anaconda3\\envs\\nlpbook\\lib\\site-packages (from umap-learn) (0.56.4)\n",
            "Requirement already satisfied: pynndescent>=0.5 in c:\\users\\owner\\anaconda3\\envs\\nlpbook\\lib\\site-packages (from umap-learn) (0.5.8)\n",
            "Requirement already satisfied: llvmlite<0.40,>=0.39.0dev0 in c:\\users\\owner\\anaconda3\\envs\\nlpbook\\lib\\site-packages (from numba>=0.49->umap-learn) (0.39.1)\n",
            "Requirement already satisfied: setuptools in c:\\users\\owner\\anaconda3\\envs\\nlpbook\\lib\\site-packages (from numba>=0.49->umap-learn) (65.5.0)\n",
            "Requirement already satisfied: joblib>=0.11 in c:\\users\\owner\\anaconda3\\envs\\nlpbook\\lib\\site-packages (from pynndescent>=0.5->umap-learn) (1.2.0)\n",
            "Requirement already satisfied: threadpoolctl>=2.0.0 in c:\\users\\owner\\anaconda3\\envs\\nlpbook\\lib\\site-packages (from scikit-learn>=0.22->umap-learn) (3.1.0)\n",
            "Requirement already satisfied: colorama in c:\\users\\owner\\anaconda3\\envs\\nlpbook\\lib\\site-packages (from tqdm->umap-learn) (0.4.6)\n",
            "Requirement already satisfied: sentencepiece in c:\\users\\owner\\anaconda3\\envs\\nlpbook\\lib\\site-packages (0.1.97)\n"
          ]
        }
      ],
      "source": [
        "!pip install transformers\n",
        "!pip install datasets\n",
        "!pip install umap-learn\n",
        "!pip install sentencepiece"
      ]
    },
    {
      "cell_type": "code",
      "execution_count": 3,
      "metadata": {
        "id": "4TZWPRJQ5BQn"
      },
      "outputs": [],
      "source": [
        "from transformers import AutoModelForSequenceClassification\n",
        "from datasets import load_dataset\n",
        "from transformers import AutoTokenizer, AutoConfig\n",
        "from transformers import AutoModel\n",
        "from torch import torch\n",
        "import pandas as pd\n",
        "import matplotlib.pyplot as plt\n",
        "\n",
        "from datasets import Dataset, DatasetDict, \n",
        "from datasets import ClassLabel, concatenate_datasets\n",
        "from datasets import Dataset, ClassLabel, Features, Value\n",
        "\n",
        "import datasets\n",
        "import pandas as pd"
      ]
    },
    {
      "cell_type": "code",
      "execution_count": 4,
      "metadata": {
        "id": "KqIyZ02B2Jpv"
      },
      "outputs": [],
      "source": [
        "TEXT_COL      = 'text'\n",
        "CLASS_COL_ST1 = 'label'"
      ]
    },
    {
      "cell_type": "code",
      "execution_count": 6,
      "metadata": {},
      "outputs": [
        {
          "name": "stdout",
          "output_type": "stream",
          "text": [
            "Downloading and preparing dataset tweet_sentiment_multilingual/spanish to C:/Users/OWNER/.cache/huggingface/datasets/cardiffnlp___tweet_sentiment_multilingual/spanish/0.1.0/936afd3cde120393429606f681b3b48d526873c45114068973f71e296ce80605...\n"
          ]
        },
        {
          "data": {
            "application/vnd.jupyter.widget-view+json": {
              "model_id": "f5f811d06a2541398f59f95e22730d65",
              "version_major": 2,
              "version_minor": 0
            },
            "text/plain": [
              "Downloading data files:   0%|          | 0/3 [00:00<?, ?it/s]"
            ]
          },
          "metadata": {},
          "output_type": "display_data"
        },
        {
          "data": {
            "application/vnd.jupyter.widget-view+json": {
              "model_id": "bd6e6889881f492ea3441bb3ed153448",
              "version_major": 2,
              "version_minor": 0
            },
            "text/plain": [
              "Downloading data:   0%|          | 0.00/103k [00:00<?, ?B/s]"
            ]
          },
          "metadata": {},
          "output_type": "display_data"
        },
        {
          "data": {
            "application/vnd.jupyter.widget-view+json": {
              "model_id": "437d77d6665a4d54ac9455f41b39c000",
              "version_major": 2,
              "version_minor": 0
            },
            "text/plain": [
              "Downloading data:   0%|          | 0.00/216k [00:00<?, ?B/s]"
            ]
          },
          "metadata": {},
          "output_type": "display_data"
        },
        {
          "data": {
            "application/vnd.jupyter.widget-view+json": {
              "model_id": "b74c211be3804a2b9d7e1922a2c6569f",
              "version_major": 2,
              "version_minor": 0
            },
            "text/plain": [
              "Downloading data:   0%|          | 0.00/38.4k [00:00<?, ?B/s]"
            ]
          },
          "metadata": {},
          "output_type": "display_data"
        },
        {
          "data": {
            "application/vnd.jupyter.widget-view+json": {
              "model_id": "eb6fd73b4ebe4db1a4064e2195b11f29",
              "version_major": 2,
              "version_minor": 0
            },
            "text/plain": [
              "Extracting data files:   0%|          | 0/3 [00:00<?, ?it/s]"
            ]
          },
          "metadata": {},
          "output_type": "display_data"
        },
        {
          "data": {
            "application/vnd.jupyter.widget-view+json": {
              "model_id": "9006349565894c81bb3e6dbf73286be2",
              "version_major": 2,
              "version_minor": 0
            },
            "text/plain": [
              "Generating train split: 0 examples [00:00, ? examples/s]"
            ]
          },
          "metadata": {},
          "output_type": "display_data"
        },
        {
          "data": {
            "application/vnd.jupyter.widget-view+json": {
              "model_id": "aa11b397c36c4cd6989f227ff090830a",
              "version_major": 2,
              "version_minor": 0
            },
            "text/plain": [
              "Generating validation split: 0 examples [00:00, ? examples/s]"
            ]
          },
          "metadata": {},
          "output_type": "display_data"
        },
        {
          "data": {
            "application/vnd.jupyter.widget-view+json": {
              "model_id": "135bb3b12a9943c89b7233c2e2755328",
              "version_major": 2,
              "version_minor": 0
            },
            "text/plain": [
              "Generating test split: 0 examples [00:00, ? examples/s]"
            ]
          },
          "metadata": {},
          "output_type": "display_data"
        },
        {
          "name": "stdout",
          "output_type": "stream",
          "text": [
            "Dataset tweet_sentiment_multilingual downloaded and prepared to C:/Users/OWNER/.cache/huggingface/datasets/cardiffnlp___tweet_sentiment_multilingual/spanish/0.1.0/936afd3cde120393429606f681b3b48d526873c45114068973f71e296ce80605. Subsequent calls will reuse this data.\n"
          ]
        },
        {
          "data": {
            "application/vnd.jupyter.widget-view+json": {
              "model_id": "4a2a9183e43f46678ed346251cf15ed0",
              "version_major": 2,
              "version_minor": 0
            },
            "text/plain": [
              "  0%|          | 0/3 [00:00<?, ?it/s]"
            ]
          },
          "metadata": {},
          "output_type": "display_data"
        }
      ],
      "source": [
        "extended_df = load_dataset(\"cardiffnlp/tweet_sentiment_multilingual\", 'spanish')"
      ]
    },
    {
      "cell_type": "code",
      "execution_count": 7,
      "metadata": {},
      "outputs": [
        {
          "data": {
            "text/plain": [
              "DatasetDict({\n",
              "    train: Dataset({\n",
              "        features: ['text', 'label'],\n",
              "        num_rows: 1839\n",
              "    })\n",
              "    validation: Dataset({\n",
              "        features: ['text', 'label'],\n",
              "        num_rows: 324\n",
              "    })\n",
              "    test: Dataset({\n",
              "        features: ['text', 'label'],\n",
              "        num_rows: 870\n",
              "    })\n",
              "})"
            ]
          },
          "metadata": {},
          "output_type": "display_data"
        }
      ],
      "source": [
        "display(extended_df)"
      ]
    },
    {
      "cell_type": "code",
      "execution_count": 57,
      "metadata": {
        "colab": {
          "base_uri": "https://localhost:8080/",
          "height": 87,
          "referenced_widgets": [
            "50a00b2b2d764edaa377486a0df0fa1d",
            "0738ed3702444d24937e448de46890f0",
            "cbcbeddb0c534fa39eddc52e6b3081bd",
            "f13ddcfa6bde4fa0bae11486eaa14b2b",
            "bd3d376bd6864c2e88c04e24f7cdd1e0",
            "5d1cb39960f347a0afb2031390fa1c8d",
            "d1aa0e8c2c184c85a005e00ec15095d1",
            "e645eef64e1640f8a81a83596a97bbb5",
            "3314537d3297403eb325be8f65f4ea63",
            "50d0499458ba421aa962036d8ecb1326",
            "fcb2b4a28bfd417ab92581e638e5e398"
          ]
        },
        "id": "Ow7NioWP17qS",
        "outputId": "e1578fba-bb9b-483b-f55f-8855d9d659a3"
      },
      "outputs": [
        {
          "data": {
            "text/html": [
              "<div>\n",
              "<style scoped>\n",
              "    .dataframe tbody tr th:only-of-type {\n",
              "        vertical-align: middle;\n",
              "    }\n",
              "\n",
              "    .dataframe tbody tr th {\n",
              "        vertical-align: top;\n",
              "    }\n",
              "\n",
              "    .dataframe thead th {\n",
              "        text-align: right;\n",
              "    }\n",
              "</style>\n",
              "<table border=\"1\" class=\"dataframe\">\n",
              "  <thead>\n",
              "    <tr style=\"text-align: right;\">\n",
              "      <th></th>\n",
              "      <th>text</th>\n",
              "      <th>label</th>\n",
              "    </tr>\n",
              "  </thead>\n",
              "  <tbody>\n",
              "    <tr>\n",
              "      <th>0</th>\n",
              "      <td>#Ahora | Reportan accidente de tránsito en el ...</td>\n",
              "      <td>harmful</td>\n",
              "    </tr>\n",
              "    <tr>\n",
              "      <th>1</th>\n",
              "      <td>#PrecauciónVial en #CDMX se registra cierre pa...</td>\n",
              "      <td>neutral</td>\n",
              "    </tr>\n",
              "    <tr>\n",
              "      <th>2</th>\n",
              "      <td>#traficogt 🚨🚨👉  http  3. Se realizan trabajos ...</td>\n",
              "      <td>neutral</td>\n",
              "    </tr>\n",
              "    <tr>\n",
              "      <th>3</th>\n",
              "      <td>#HoyMismo  #Internacionales | El Gobierno de J...</td>\n",
              "      <td>neutral</td>\n",
              "    </tr>\n",
              "    <tr>\n",
              "      <th>4</th>\n",
              "      <td>Casos como el accidente en Villa Lorena, en el...</td>\n",
              "      <td>neutral</td>\n",
              "    </tr>\n",
              "    <tr>\n",
              "      <th>...</th>\n",
              "      <td>...</td>\n",
              "      <td>...</td>\n",
              "    </tr>\n",
              "    <tr>\n",
              "      <th>3357</th>\n",
              "      <td>Bomberos atendieron accidente vehicular, vía h...</td>\n",
              "      <td>harmful</td>\n",
              "    </tr>\n",
              "    <tr>\n",
              "      <th>3358</th>\n",
              "      <td>El @user y @user recuerdan al escritor Eraclio...</td>\n",
              "      <td>neutral</td>\n",
              "    </tr>\n",
              "    <tr>\n",
              "      <th>3359</th>\n",
              "      <td>Recientemente lo dejaron libre bajo fianza y a...</td>\n",
              "      <td>harmful</td>\n",
              "    </tr>\n",
              "    <tr>\n",
              "      <th>3360</th>\n",
              "      <td>Accidente en Calle 127 &amp;gt; Oriente #traficobo...</td>\n",
              "      <td>neutral</td>\n",
              "    </tr>\n",
              "    <tr>\n",
              "      <th>3361</th>\n",
              "      <td>11 de septiembre #ElCaminoEsLaPaz   1973 - Sal...</td>\n",
              "      <td>neutral</td>\n",
              "    </tr>\n",
              "  </tbody>\n",
              "</table>\n",
              "<p>3362 rows × 2 columns</p>\n",
              "</div>"
            ],
            "text/plain": [
              "                                                   text    label\n",
              "0     #Ahora | Reportan accidente de tránsito en el ...  harmful\n",
              "1     #PrecauciónVial en #CDMX se registra cierre pa...  neutral\n",
              "2     #traficogt 🚨🚨👉  http  3. Se realizan trabajos ...  neutral\n",
              "3     #HoyMismo  #Internacionales | El Gobierno de J...  neutral\n",
              "4     Casos como el accidente en Villa Lorena, en el...  neutral\n",
              "...                                                 ...      ...\n",
              "3357  Bomberos atendieron accidente vehicular, vía h...  harmful\n",
              "3358  El @user y @user recuerdan al escritor Eraclio...  neutral\n",
              "3359  Recientemente lo dejaron libre bajo fianza y a...  harmful\n",
              "3360  Accidente en Calle 127 &gt; Oriente #traficobo...  neutral\n",
              "3361  11 de septiembre #ElCaminoEsLaPaz   1973 - Sal...  neutral\n",
              "\n",
              "[3362 rows x 2 columns]"
            ]
          },
          "metadata": {},
          "output_type": "display_data"
        },
        {
          "data": {
            "text/html": [
              "<div>\n",
              "<style scoped>\n",
              "    .dataframe tbody tr th:only-of-type {\n",
              "        vertical-align: middle;\n",
              "    }\n",
              "\n",
              "    .dataframe tbody tr th {\n",
              "        vertical-align: top;\n",
              "    }\n",
              "\n",
              "    .dataframe thead th {\n",
              "        text-align: right;\n",
              "    }\n",
              "</style>\n",
              "<table border=\"1\" class=\"dataframe\">\n",
              "  <thead>\n",
              "    <tr style=\"text-align: right;\">\n",
              "      <th></th>\n",
              "      <th>text</th>\n",
              "      <th>label</th>\n",
              "    </tr>\n",
              "  </thead>\n",
              "  <tbody>\n",
              "    <tr>\n",
              "      <th>0</th>\n",
              "      <td>Accidente en el Vallado frente al polideportiv...</td>\n",
              "      <td>harmful</td>\n",
              "    </tr>\n",
              "    <tr>\n",
              "      <th>1</th>\n",
              "      <td>Vitor Belfort abruma a Evander Holyfield en la...</td>\n",
              "      <td>neutral</td>\n",
              "    </tr>\n",
              "    <tr>\n",
              "      <th>2</th>\n",
              "      <td>En México, las estadísticas de violencia homic...</td>\n",
              "      <td>neutral</td>\n",
              "    </tr>\n",
              "    <tr>\n",
              "      <th>3</th>\n",
              "      <td>Como Jorge Armando Ayala Guarín de  25 años, f...</td>\n",
              "      <td>harmful</td>\n",
              "    </tr>\n",
              "    <tr>\n",
              "      <th>4</th>\n",
              "      <td>Quebrar un vidrio ///// Quebrar el país a plom...</td>\n",
              "      <td>neutral</td>\n",
              "    </tr>\n",
              "    <tr>\n",
              "      <th>5</th>\n",
              "      <td>#EsNoticia 📌 En aparente estado de embriaguez,...</td>\n",
              "      <td>harmful</td>\n",
              "    </tr>\n",
              "    <tr>\n",
              "      <th>6</th>\n",
              "      <td>@user Por último ponga la queja en CNN en espa...</td>\n",
              "      <td>neutral</td>\n",
              "    </tr>\n",
              "    <tr>\n",
              "      <th>7</th>\n",
              "      <td>174 aniversario de la Gesta Heroica de los Niñ...</td>\n",
              "      <td>neutral</td>\n",
              "    </tr>\n",
              "    <tr>\n",
              "      <th>8</th>\n",
              "      <td>SigAlert en Lake Elsinore. En la I-15 norte ce...</td>\n",
              "      <td>neutral</td>\n",
              "    </tr>\n",
              "    <tr>\n",
              "      <th>9</th>\n",
              "      <td>LO ÚLTIMO Al menos dos personas resultaron her...</td>\n",
              "      <td>harmful</td>\n",
              "    </tr>\n",
              "    <tr>\n",
              "      <th>10</th>\n",
              "      <td>@user de @user en conversación con El Tiempo d...</td>\n",
              "      <td>harmful</td>\n",
              "    </tr>\n",
              "    <tr>\n",
              "      <th>11</th>\n",
              "      <td>El ministro de seguridad @user asegura que las...</td>\n",
              "      <td>neutral</td>\n",
              "    </tr>\n",
              "    <tr>\n",
              "      <th>12</th>\n",
              "      <td>(#VIDEO) 🔴 #INSEGURIDAD EN #LAMATANZA 📣 Nuevo ...</td>\n",
              "      <td>harmful</td>\n",
              "    </tr>\n",
              "    <tr>\n",
              "      <th>13</th>\n",
              "      <td>Los hermanos Uribe Noguera consultaron con var...</td>\n",
              "      <td>harmful</td>\n",
              "    </tr>\n",
              "    <tr>\n",
              "      <th>14</th>\n",
              "      <td>Ellos tienen armas de fuego, nosotras fuego en...</td>\n",
              "      <td>neutral</td>\n",
              "    </tr>\n",
              "    <tr>\n",
              "      <th>15</th>\n",
              "      <td>DEJAN EN PRISIÓN A 'ASALTA-TAXISTA' DE AGS  #A...</td>\n",
              "      <td>neutral</td>\n",
              "    </tr>\n",
              "    <tr>\n",
              "      <th>16</th>\n",
              "      <td>Mientras el gobierno está entre la espada y la...</td>\n",
              "      <td>neutral</td>\n",
              "    </tr>\n",
              "    <tr>\n",
              "      <th>17</th>\n",
              "      <td>Sigue Accidente de 18 ruedas bloquea el carril...</td>\n",
              "      <td>harmful</td>\n",
              "    </tr>\n",
              "    <tr>\n",
              "      <th>18</th>\n",
              "      <td>Accidente en Periférico Pte. Manuel Gómez Morí...</td>\n",
              "      <td>neutral</td>\n",
              "    </tr>\n",
              "    <tr>\n",
              "      <th>19</th>\n",
              "      <td>#174ANIVERSARIO El 13 de septiembre de 1847, l...</td>\n",
              "      <td>neutral</td>\n",
              "    </tr>\n",
              "    <tr>\n",
              "      <th>20</th>\n",
              "      <td>🔵#LaLibertad. Ever Alexander García, quien oca...</td>\n",
              "      <td>harmful</td>\n",
              "    </tr>\n",
              "    <tr>\n",
              "      <th>21</th>\n",
              "      <td>#SeguridadyJusticia Autobús de transporte públ...</td>\n",
              "      <td>harmful</td>\n",
              "    </tr>\n",
              "    <tr>\n",
              "      <th>22</th>\n",
              "      <td>En caso de violencia contra niñas, niños y ado...</td>\n",
              "      <td>neutral</td>\n",
              "    </tr>\n",
              "    <tr>\n",
              "      <th>23</th>\n",
              "      <td>Accidente en Bogotá-Mosquera / RN50-08A &amp;gt;Or...</td>\n",
              "      <td>neutral</td>\n",
              "    </tr>\n",
              "    <tr>\n",
              "      <th>24</th>\n",
              "      <td>#Entérate #Oaxaca / Reporte ciudadano. Se regi...</td>\n",
              "      <td>harmful</td>\n",
              "    </tr>\n",
              "    <tr>\n",
              "      <th>25</th>\n",
              "      <td>#2Septiembre | Policia Nacional de #Nicaragua ...</td>\n",
              "      <td>harmful</td>\n",
              "    </tr>\n",
              "    <tr>\n",
              "      <th>26</th>\n",
              "      <td>Un hombre fue Ejecutado en camión urbano en el...</td>\n",
              "      <td>harmful</td>\n",
              "    </tr>\n",
              "    <tr>\n",
              "      <th>27</th>\n",
              "      <td>Recuerde que la línea de atención 165 de @user...</td>\n",
              "      <td>neutral</td>\n",
              "    </tr>\n",
              "    <tr>\n",
              "      <th>28</th>\n",
              "      <td>Acusan a mayor de la Policía por muerte de jov...</td>\n",
              "      <td>harmful</td>\n",
              "    </tr>\n",
              "    <tr>\n",
              "      <th>29</th>\n",
              "      <td>Citas #FGJCDMX para seguimiento y trámites en ...</td>\n",
              "      <td>neutral</td>\n",
              "    </tr>\n",
              "    <tr>\n",
              "      <th>30</th>\n",
              "      <td>#PrecauciónVial en #Puebla se registra cierre ...</td>\n",
              "      <td>harmful</td>\n",
              "    </tr>\n",
              "    <tr>\n",
              "      <th>31</th>\n",
              "      <td>Unos dos millones de personas perdieron la vid...</td>\n",
              "      <td>neutral</td>\n",
              "    </tr>\n",
              "    <tr>\n",
              "      <th>32</th>\n",
              "      <td>#PrecauciónVial en #Tamaulipas se registra cie...</td>\n",
              "      <td>harmful</td>\n",
              "    </tr>\n",
              "    <tr>\n",
              "      <th>33</th>\n",
              "      <td>@user sonará feo, pero si estos son los migran...</td>\n",
              "      <td>neutral</td>\n",
              "    </tr>\n",
              "    <tr>\n",
              "      <th>34</th>\n",
              "      <td>@user es un sujeto siniestro el del partido de...</td>\n",
              "      <td>neutral</td>\n",
              "    </tr>\n",
              "    <tr>\n",
              "      <th>35</th>\n",
              "      <td>#Infórmate | Recuperan vehículo robado con vio...</td>\n",
              "      <td>harmful</td>\n",
              "    </tr>\n",
              "    <tr>\n",
              "      <th>36</th>\n",
              "      <td>#Seguridad 🚨 Elementos de la PID detienen a 3 ...</td>\n",
              "      <td>harmful</td>\n",
              "    </tr>\n",
              "    <tr>\n",
              "      <th>37</th>\n",
              "      <td>😱Fiscalía de CDMX investiga presunto robo de 5...</td>\n",
              "      <td>harmful</td>\n",
              "    </tr>\n",
              "    <tr>\n",
              "      <th>38</th>\n",
              "      <td>Accidente grave en MEX-15 / Guadalajara - Tepi...</td>\n",
              "      <td>neutral</td>\n",
              "    </tr>\n",
              "    <tr>\n",
              "      <th>39</th>\n",
              "      <td>#TraficoSV | Se reporta accidente de tránsito ...</td>\n",
              "      <td>harmful</td>\n",
              "    </tr>\n",
              "    <tr>\n",
              "      <th>40</th>\n",
              "      <td>🚨👮‍♂️Atención👮‍♂️🚨  Hace pocos minutos se pres...</td>\n",
              "      <td>harmful</td>\n",
              "    </tr>\n",
              "    <tr>\n",
              "      <th>41</th>\n",
              "      <td>El control de tu vehículo en la palma de tu ma...</td>\n",
              "      <td>neutral</td>\n",
              "    </tr>\n",
              "    <tr>\n",
              "      <th>42</th>\n",
              "      <td>Ya se tiene identificado al responsable del ac...</td>\n",
              "      <td>harmful</td>\n",
              "    </tr>\n",
              "    <tr>\n",
              "      <th>43</th>\n",
              "      <td>Salvar el fuego. @user premio Alfaguara 2020. ...</td>\n",
              "      <td>neutral</td>\n",
              "    </tr>\n",
              "    <tr>\n",
              "      <th>44</th>\n",
              "      <td>El Gobierno destina este año casi 500.000 euro...</td>\n",
              "      <td>neutral</td>\n",
              "    </tr>\n",
              "    <tr>\n",
              "      <th>45</th>\n",
              "      <td>Dos policías municipales de Manzanillo quedaro...</td>\n",
              "      <td>harmful</td>\n",
              "    </tr>\n",
              "    <tr>\n",
              "      <th>46</th>\n",
              "      <td>el suicidio es un evento inesperado y multicau...</td>\n",
              "      <td>neutral</td>\n",
              "    </tr>\n",
              "    <tr>\n",
              "      <th>47</th>\n",
              "      <td>#PrecauciónVial en #Jalisco se registra cierre...</td>\n",
              "      <td>neutral</td>\n",
              "    </tr>\n",
              "    <tr>\n",
              "      <th>48</th>\n",
              "      <td>🆘 De acuerdo con cifras oficiales, la violenci...</td>\n",
              "      <td>neutral</td>\n",
              "    </tr>\n",
              "    <tr>\n",
              "      <th>49</th>\n",
              "      <td>Hamilton después del accidente #F1  http</td>\n",
              "      <td>neutral</td>\n",
              "    </tr>\n",
              "  </tbody>\n",
              "</table>\n",
              "</div>"
            ],
            "text/plain": [
              "                                                 text    label\n",
              "0   Accidente en el Vallado frente al polideportiv...  harmful\n",
              "1   Vitor Belfort abruma a Evander Holyfield en la...  neutral\n",
              "2   En México, las estadísticas de violencia homic...  neutral\n",
              "3   Como Jorge Armando Ayala Guarín de  25 años, f...  harmful\n",
              "4   Quebrar un vidrio ///// Quebrar el país a plom...  neutral\n",
              "5   #EsNoticia 📌 En aparente estado de embriaguez,...  harmful\n",
              "6   @user Por último ponga la queja en CNN en espa...  neutral\n",
              "7   174 aniversario de la Gesta Heroica de los Niñ...  neutral\n",
              "8   SigAlert en Lake Elsinore. En la I-15 norte ce...  neutral\n",
              "9   LO ÚLTIMO Al menos dos personas resultaron her...  harmful\n",
              "10  @user de @user en conversación con El Tiempo d...  harmful\n",
              "11  El ministro de seguridad @user asegura que las...  neutral\n",
              "12  (#VIDEO) 🔴 #INSEGURIDAD EN #LAMATANZA 📣 Nuevo ...  harmful\n",
              "13  Los hermanos Uribe Noguera consultaron con var...  harmful\n",
              "14  Ellos tienen armas de fuego, nosotras fuego en...  neutral\n",
              "15  DEJAN EN PRISIÓN A 'ASALTA-TAXISTA' DE AGS  #A...  neutral\n",
              "16  Mientras el gobierno está entre la espada y la...  neutral\n",
              "17  Sigue Accidente de 18 ruedas bloquea el carril...  harmful\n",
              "18  Accidente en Periférico Pte. Manuel Gómez Morí...  neutral\n",
              "19  #174ANIVERSARIO El 13 de septiembre de 1847, l...  neutral\n",
              "20  🔵#LaLibertad. Ever Alexander García, quien oca...  harmful\n",
              "21  #SeguridadyJusticia Autobús de transporte públ...  harmful\n",
              "22  En caso de violencia contra niñas, niños y ado...  neutral\n",
              "23  Accidente en Bogotá-Mosquera / RN50-08A &gt;Or...  neutral\n",
              "24  #Entérate #Oaxaca / Reporte ciudadano. Se regi...  harmful\n",
              "25  #2Septiembre | Policia Nacional de #Nicaragua ...  harmful\n",
              "26  Un hombre fue Ejecutado en camión urbano en el...  harmful\n",
              "27  Recuerde que la línea de atención 165 de @user...  neutral\n",
              "28  Acusan a mayor de la Policía por muerte de jov...  harmful\n",
              "29  Citas #FGJCDMX para seguimiento y trámites en ...  neutral\n",
              "30  #PrecauciónVial en #Puebla se registra cierre ...  harmful\n",
              "31  Unos dos millones de personas perdieron la vid...  neutral\n",
              "32  #PrecauciónVial en #Tamaulipas se registra cie...  harmful\n",
              "33  @user sonará feo, pero si estos son los migran...  neutral\n",
              "34  @user es un sujeto siniestro el del partido de...  neutral\n",
              "35  #Infórmate | Recuperan vehículo robado con vio...  harmful\n",
              "36  #Seguridad 🚨 Elementos de la PID detienen a 3 ...  harmful\n",
              "37  😱Fiscalía de CDMX investiga presunto robo de 5...  harmful\n",
              "38  Accidente grave en MEX-15 / Guadalajara - Tepi...  neutral\n",
              "39  #TraficoSV | Se reporta accidente de tránsito ...  harmful\n",
              "40  🚨👮‍♂️Atención👮‍♂️🚨  Hace pocos minutos se pres...  harmful\n",
              "41  El control de tu vehículo en la palma de tu ma...  neutral\n",
              "42  Ya se tiene identificado al responsable del ac...  harmful\n",
              "43  Salvar el fuego. @user premio Alfaguara 2020. ...  neutral\n",
              "44  El Gobierno destina este año casi 500.000 euro...  neutral\n",
              "45  Dos policías municipales de Manzanillo quedaro...  harmful\n",
              "46  el suicidio es un evento inesperado y multicau...  neutral\n",
              "47  #PrecauciónVial en #Jalisco se registra cierre...  neutral\n",
              "48  🆘 De acuerdo con cifras oficiales, la violenci...  neutral\n",
              "49           Hamilton después del accidente #F1  http  neutral"
            ]
          },
          "metadata": {},
          "output_type": "display_data"
        }
      ],
      "source": [
        "# descomente la siguiente línea para leer datos desde un URL\n",
        "\n",
        "train_url = 'https://raw.githubusercontent.com/carlossuazo/davincis-iberlef-2023/main/data/training_data/train.csv'\n",
        "test_url = 'https://raw.githubusercontent.com/carlossuazo/davincis-iberlef-2023/main/data/test_data/test.csv'\n",
        "\n",
        "# Dataset de entrenamiento\n",
        "df_train = pd.read_csv(train_url, header=None, names = [TEXT_COL, CLASS_COL_ST1])\n",
        "\n",
        "# Dataset de test\n",
        "df_test  = pd.read_csv(test_url, header=None, names = [TEXT_COL, CLASS_COL_ST1])\n",
        "\n",
        "display(df_train)\n",
        "display(df_test)"
      ]
    },
    {
      "cell_type": "code",
      "execution_count": 58,
      "metadata": {},
      "outputs": [],
      "source": [
        "df = DatasetDict({\n",
        "    \"train\": Dataset.from_pandas(df_train, features=Features({'text': Value('string'),'label': ClassLabel(names=['harmful', 'neutral'])})),\n",
        "    \"validation\": Dataset.from_pandas(df_test, features=Features({'text': Value('string'),'label': ClassLabel(names=['harmful', 'neutral'])}))\n",
        "    })"
      ]
    },
    {
      "cell_type": "code",
      "execution_count": 59,
      "metadata": {
        "colab": {
          "base_uri": "https://localhost:8080/"
        },
        "id": "HPivwK1ZxG-L",
        "outputId": "fc4cb4f0-6f3d-400e-8853-cb9f94b5bcd7"
      },
      "outputs": [
        {
          "data": {
            "text/plain": [
              "DatasetDict({\n",
              "    train: Dataset({\n",
              "        features: ['text', 'label'],\n",
              "        num_rows: 3362\n",
              "    })\n",
              "    test: Dataset({\n",
              "        features: ['text', 'label'],\n",
              "        num_rows: 50\n",
              "    })\n",
              "})"
            ]
          },
          "execution_count": 59,
          "metadata": {},
          "output_type": "execute_result"
        }
      ],
      "source": [
        "df"
      ]
    },
    {
      "cell_type": "code",
      "execution_count": 60,
      "metadata": {
        "id": "zTb03YeswWyn"
      },
      "outputs": [
        {
          "data": {
            "text/plain": [
              "{'text': Value(dtype='string', id=None),\n",
              " 'label': ClassLabel(names=['harmful', 'neutral'], id=None)}"
            ]
          },
          "execution_count": 60,
          "metadata": {},
          "output_type": "execute_result"
        }
      ],
      "source": [
        "df['train'].features"
      ]
    },
    {
      "cell_type": "code",
      "execution_count": 61,
      "metadata": {
        "id": "ZDsa3_T3trZZ"
      },
      "outputs": [],
      "source": [
        "model_ckpt = f\"cardiffnlp/twitter-roberta-base-sentiment\"#\"cardiffnlp/twitter-xlm-roberta-base-sentiment\"\n",
        "tokenizer = AutoTokenizer.from_pretrained(model_ckpt)"
      ]
    },
    {
      "cell_type": "code",
      "execution_count": 62,
      "metadata": {
        "colab": {
          "base_uri": "https://localhost:8080/"
        },
        "id": "tIRAwiYtyrnd",
        "outputId": "241ef9bc-a9e8-4d6a-a657-1a26465b4649"
      },
      "outputs": [
        {
          "name": "stdout",
          "output_type": "stream",
          "text": [
            "{'input_ids': [0, 45643, 1210, 271, 1615, 2788, 139, 2714, 542, 102, 326, 7907, 1353, 2424, 234, 21992, 4, 2], 'attention_mask': [1, 1, 1, 1, 1, 1, 1, 1, 1, 1, 1, 1, 1, 1, 1, 1, 1, 1]}\n"
          ]
        }
      ],
      "source": [
        "text = 'Tokenizar el texto es una tarea central del NLP.'\n",
        "encoded_text = tokenizer(text)\n",
        "print(encoded_text)"
      ]
    },
    {
      "cell_type": "code",
      "execution_count": 63,
      "metadata": {
        "colab": {
          "base_uri": "https://localhost:8080/"
        },
        "id": "CGEb_Q2lywOL",
        "outputId": "6afdce80-7acb-45d5-eac3-5084b14e5fd0"
      },
      "outputs": [
        {
          "name": "stdout",
          "output_type": "stream",
          "text": [
            "['<s>', 'Token', 'iz', 'ar', 'Ġel', 'Ġtext', 'o', 'Ġes', 'Ġun', 'a', 'Ġt', 'area', 'Ġcentral', 'Ġdel', 'ĠN', 'LP', '.', '</s>']\n"
          ]
        }
      ],
      "source": [
        "tokens = tokenizer.convert_ids_to_tokens(encoded_text.input_ids)\n",
        "print(tokens)"
      ]
    },
    {
      "cell_type": "code",
      "execution_count": 64,
      "metadata": {
        "colab": {
          "base_uri": "https://localhost:8080/"
        },
        "id": "HcHU9OF9y1hU",
        "outputId": "4607a449-7163-4b27-f772-bc179655e880"
      },
      "outputs": [
        {
          "name": "stdout",
          "output_type": "stream",
          "text": [
            "<s>Tokenizar el texto es una tarea central del NLP.</s>\n"
          ]
        }
      ],
      "source": [
        "print(tokenizer.convert_tokens_to_string(tokens))"
      ]
    },
    {
      "cell_type": "code",
      "execution_count": 65,
      "metadata": {
        "colab": {
          "base_uri": "https://localhost:8080/"
        },
        "id": "rRrxGD36y4t0",
        "outputId": "c5dfe73a-db05-4de3-8ca3-f17cad6ab2e6"
      },
      "outputs": [
        {
          "data": {
            "text/plain": [
              "50265"
            ]
          },
          "execution_count": 65,
          "metadata": {},
          "output_type": "execute_result"
        }
      ],
      "source": [
        "tokenizer.vocab_size"
      ]
    },
    {
      "cell_type": "code",
      "execution_count": 66,
      "metadata": {
        "colab": {
          "base_uri": "https://localhost:8080/"
        },
        "id": "UGt3xS78y7QB",
        "outputId": "bc06130b-eff8-47e9-afa9-6248404b614a"
      },
      "outputs": [
        {
          "data": {
            "text/plain": [
              "1000000000000000019884624838656"
            ]
          },
          "execution_count": 66,
          "metadata": {},
          "output_type": "execute_result"
        }
      ],
      "source": [
        "tokenizer.model_max_length"
      ]
    },
    {
      "cell_type": "code",
      "execution_count": 67,
      "metadata": {
        "colab": {
          "base_uri": "https://localhost:8080/"
        },
        "id": "ihR2A2D_zAjv",
        "outputId": "64f02929-6250-4612-f7bd-f4fdfb9d752b"
      },
      "outputs": [
        {
          "data": {
            "text/plain": [
              "['input_ids', 'attention_mask']"
            ]
          },
          "execution_count": 67,
          "metadata": {},
          "output_type": "execute_result"
        }
      ],
      "source": [
        "tokenizer.model_input_names"
      ]
    },
    {
      "cell_type": "code",
      "execution_count": 68,
      "metadata": {
        "id": "yVQQj_xuzFHF"
      },
      "outputs": [],
      "source": [
        "def tokenize(batch):\n",
        "    return tokenizer(batch[TEXT_COL], padding=True, truncation=True)"
      ]
    },
    {
      "cell_type": "code",
      "execution_count": 69,
      "metadata": {
        "colab": {
          "base_uri": "https://localhost:8080/"
        },
        "id": "KQK-aVTazH-D",
        "outputId": "4a5a53de-1f3a-4ed5-f2c8-9719a731d208"
      },
      "outputs": [
        {
          "name": "stdout",
          "output_type": "stream",
          "text": [
            "{'input_ids': [[0, 10431, 17986, 4330, 1721, 2872, 260, 3213, 242, 263, 2664, 1526, 6852, 4842, 1177, 1615, 21691, 1535, 139, 1076, 40492, 1020, 263, 2575, 438, 1176, 1526, 4, 25840, 27102, 1977, 13300, 366, 4767, 139, 1893, 1517, 40645, 3964, 7822, 366, 1177, 1615, 228, 438, 5332, 4, 1437, 27672, 1180, 2520, 2727, 1076, 46341, 853, 2953, 1615, 1293, 4, 1437, 37522, 118, 1322, 14666, 897, 6296, 5014, 2727, 4, 1437, 1437, 8103, 9085, 18537, 15286, 6320, 15775, 271, 16723, 366, 1437, 849, 5320, 41312, 1866, 7199, 636, 5003, 1437, 2054, 2], [0, 10431, 22763, 438, 1180, 2520, 2727, 846, 2617, 1177, 849, 11579, 39810, 842, 19886, 763, 740, 41307, 2242, 15585, 263, 27884, 922, 5014, 2727, 2953, 3213, 242, 6, 10, 4892, 1178, 757, 625, 5511, 242, 1177, 1615, 6301, 321, 844, 2744, 2965, 23434, 6377, 36, 1360, 1749, 43, 26617, 1178, 2684, 36, 30495, 4, 11242, 405, 5781, 1342, 293, 43, 1587, 1127, 15017, 102, 6, 21230, 139, 2664, 12705, 6, 10697, 12870, 2727, 7522, 39810, 4, 497, 118, 15205, 31171, 5014, 2727, 748, 2617, 4, 1437, 2054, 2, 1, 1]], 'attention_mask': [[1, 1, 1, 1, 1, 1, 1, 1, 1, 1, 1, 1, 1, 1, 1, 1, 1, 1, 1, 1, 1, 1, 1, 1, 1, 1, 1, 1, 1, 1, 1, 1, 1, 1, 1, 1, 1, 1, 1, 1, 1, 1, 1, 1, 1, 1, 1, 1, 1, 1, 1, 1, 1, 1, 1, 1, 1, 1, 1, 1, 1, 1, 1, 1, 1, 1, 1, 1, 1, 1, 1, 1, 1, 1, 1, 1, 1, 1, 1, 1, 1, 1, 1, 1, 1, 1, 1, 1, 1, 1, 1], [1, 1, 1, 1, 1, 1, 1, 1, 1, 1, 1, 1, 1, 1, 1, 1, 1, 1, 1, 1, 1, 1, 1, 1, 1, 1, 1, 1, 1, 1, 1, 1, 1, 1, 1, 1, 1, 1, 1, 1, 1, 1, 1, 1, 1, 1, 1, 1, 1, 1, 1, 1, 1, 1, 1, 1, 1, 1, 1, 1, 1, 1, 1, 1, 1, 1, 1, 1, 1, 1, 1, 1, 1, 1, 1, 1, 1, 1, 1, 1, 1, 1, 1, 1, 1, 1, 1, 1, 1, 0, 0]]}\n"
          ]
        }
      ],
      "source": [
        "print(tokenize(df[\"train\"][:2]))"
      ]
    },
    {
      "cell_type": "code",
      "execution_count": 70,
      "metadata": {
        "colab": {
          "base_uri": "https://localhost:8080/",
          "height": 17,
          "referenced_widgets": [
            "1343aa66166e427bbe9b42032d67b375",
            "378cd0be7e3148c18eadc0410d820f79",
            "c560ca57e31a4811b9ae5641faf2405f",
            "6ea7e2475b0b461d8cb29a02bcfa1be6",
            "4c86f101d73640bebd986081a1a53dd8",
            "66e6c8ea11574be5809f4b282bc5a9b3",
            "fb6b14feca6f4bc08ae42a6a0495fa7e",
            "4da7ce0ad0824ee0abca61bd235aa02d",
            "ae0c2bd525394687a86a88b8cb2c8743",
            "393247c749a5403093558bcf51cd2077",
            "682affdd1bdb4cfbbb03321a7bbd9995",
            "cb9fdc8106aa4e28b3ab0c055ef82b83",
            "cc9cf3863ad54dffbc07a9c1e75e89eb",
            "9fa97f675dbd46278d7b6ac262ffa102",
            "f9872a20982947c7b35068f6aa718bba",
            "1be830e44eef4220b72cfe9c045d770d",
            "bcd4eb667c904296b8d50afe1e4b6044",
            "3a837755bc7f4a14bfdb62037a229ef8",
            "4360a48a153b46f09f3fe868bffdcc87",
            "f85e603272ea46b4b3ffdb05f721c450",
            "32b428d336394d4fa0c9f0797d488a5b",
            "291a06e505c541c69c41ad45593239a3"
          ]
        },
        "id": "QDKUy3g8zYs6",
        "outputId": "04d55882-2143-4726-8d44-0149c1fc2421"
      },
      "outputs": [
        {
          "data": {
            "application/vnd.jupyter.widget-view+json": {
              "model_id": "7e7f05f9849b4dd3b244848029b123a5",
              "version_major": 2,
              "version_minor": 0
            },
            "text/plain": [
              "Map:   0%|          | 0/3362 [00:00<?, ? examples/s]"
            ]
          },
          "metadata": {},
          "output_type": "display_data"
        },
        {
          "data": {
            "application/vnd.jupyter.widget-view+json": {
              "model_id": "75b0fcc889374b0a902c268624090539",
              "version_major": 2,
              "version_minor": 0
            },
            "text/plain": [
              "Map:   0%|          | 0/50 [00:00<?, ? examples/s]"
            ]
          },
          "metadata": {},
          "output_type": "display_data"
        }
      ],
      "source": [
        "tweets_encoded = df.map(tokenize, batched=True, batch_size=None) #batch_size=None"
      ]
    },
    {
      "cell_type": "code",
      "execution_count": 71,
      "metadata": {
        "colab": {
          "base_uri": "https://localhost:8080/"
        },
        "id": "NEjPZSl7zgzB",
        "outputId": "51618cf3-876e-47df-a870-baa0f2e0432e"
      },
      "outputs": [
        {
          "name": "stdout",
          "output_type": "stream",
          "text": [
            "['text', 'label', 'input_ids', 'attention_mask']\n"
          ]
        }
      ],
      "source": [
        "# al aplicar map se agregan dos nuevas columnas al objeto, \n",
        "print(tweets_encoded[\"train\"].column_names)"
      ]
    },
    {
      "cell_type": "code",
      "execution_count": 72,
      "metadata": {
        "colab": {
          "base_uri": "https://localhost:8080/"
        },
        "id": "lufOlvgqzwbf",
        "outputId": "ae567e9b-e7a1-4de7-e795-73cc715e3999"
      },
      "outputs": [],
      "source": [
        "device = torch.device(\"cuda\" if torch.cuda.is_available() else \"cpu\")\n",
        "model = AutoModel.from_pretrained(model_ckpt).to(device)"
      ]
    },
    {
      "cell_type": "code",
      "execution_count": 73,
      "metadata": {
        "id": "Dha6stmtzzY9"
      },
      "outputs": [],
      "source": [
        "from transformers import TFAutoModel\n",
        "\n",
        "#tf_model = TFAutoModel.from_pretrained(model_ckpt)"
      ]
    },
    {
      "cell_type": "code",
      "execution_count": 74,
      "metadata": {
        "id": "dqkQ9FqEz__w"
      },
      "outputs": [],
      "source": [
        "#tf_xlmr = TFAutoModel.from_pretrained(\"xlm-roberta-base\")"
      ]
    },
    {
      "cell_type": "code",
      "execution_count": 75,
      "metadata": {
        "id": "uI04r0DB2EqV"
      },
      "outputs": [],
      "source": [
        "#tf_xlmr = TFAutoModel.from_pretrained(\"xlm-roberta-base\", from_pt=True)"
      ]
    },
    {
      "cell_type": "code",
      "execution_count": 76,
      "metadata": {
        "colab": {
          "base_uri": "https://localhost:8080/"
        },
        "id": "ALOB1Ttr2J1-",
        "outputId": "58b98cea-527b-49f8-b68a-9ec369e8bbcf"
      },
      "outputs": [
        {
          "name": "stdout",
          "output_type": "stream",
          "text": [
            "Input tensor shape: torch.Size([1, 6])\n"
          ]
        }
      ],
      "source": [
        "text = \"this is a test\"\n",
        "inputs = tokenizer(text, return_tensors=\"pt\")\n",
        "print(f\"Input tensor shape: {inputs['input_ids'].size()}\")"
      ]
    },
    {
      "cell_type": "code",
      "execution_count": 77,
      "metadata": {
        "colab": {
          "base_uri": "https://localhost:8080/"
        },
        "id": "hz5WzKwa2Mn-",
        "outputId": "8ad4108f-2573-440b-fffa-6bfcedcb4f91"
      },
      "outputs": [
        {
          "name": "stdout",
          "output_type": "stream",
          "text": [
            "BaseModelOutputWithPoolingAndCrossAttentions(last_hidden_state=tensor([[[-2.8212e-01, -5.4723e-01,  8.7227e-02,  ..., -6.1494e-01,\n",
            "          -1.0628e-01, -6.2300e-01],\n",
            "         [ 3.5916e-02, -8.6982e-01,  5.3141e-01,  ..., -7.1903e-01,\n",
            "          -1.2872e-01, -2.8742e-01],\n",
            "         [-9.1783e-02,  3.6813e-04,  1.3581e-01,  ..., -1.3801e+00,\n",
            "          -2.0054e-01, -3.4173e-02],\n",
            "         [ 1.5421e-02, -6.7264e-01,  1.4242e-01,  ..., -4.3557e-01,\n",
            "           2.9332e-01, -1.9288e-01],\n",
            "         [-5.2928e-02, -5.2406e-01,  2.5271e-01,  ..., -1.0034e+00,\n",
            "           1.6826e-01, -4.1093e-01],\n",
            "         [-2.9693e-01, -5.4961e-01,  8.7612e-02,  ..., -6.1877e-01,\n",
            "          -1.0939e-01, -6.3301e-01]]]), pooler_output=tensor([[ 6.0533e-01, -4.4612e-01,  1.3868e-01,  5.2908e-01, -1.4114e-01,\n",
            "          3.1448e-01,  8.3066e-01,  3.1738e-01, -6.7557e-01,  2.2000e-01,\n",
            "         -6.1351e-01, -1.8779e-01, -4.9827e-01,  2.2901e-01,  1.4920e-01,\n",
            "         -3.4883e-01, -4.8575e-01,  8.3031e-02,  4.4950e-01, -5.3882e-01,\n",
            "          2.1172e-01, -3.7175e-01,  7.9309e-02, -6.3512e-01,  3.6944e-01,\n",
            "         -1.2912e-01, -1.8009e-01, -2.2047e-01, -7.0957e-01, -1.7050e-01,\n",
            "         -2.2542e-01,  3.9510e-02, -3.4513e-01, -4.6650e-01,  3.2907e-01,\n",
            "          1.3134e-01,  6.8935e-01, -2.8324e-01,  4.0297e-01,  3.9754e-02,\n",
            "          4.0283e-01, -4.2003e-01,  4.7871e-01,  7.9476e-01, -1.6752e-01,\n",
            "          8.7047e-02, -6.3651e-01, -4.0766e-01, -2.7846e-01, -2.8739e-01,\n",
            "         -1.0195e-01, -4.8081e-01,  3.8808e-01,  3.8363e-01,  1.5919e-02,\n",
            "          4.8011e-01, -2.1626e-01, -3.2381e-01, -1.6192e-01, -2.6030e-01,\n",
            "         -5.7266e-01, -3.7307e-01, -1.8671e-01, -5.8452e-01, -1.6935e-01,\n",
            "         -7.7052e-01, -1.5723e-01,  7.5047e-01, -7.5456e-01,  2.1671e-01,\n",
            "         -4.1758e-01, -3.2072e-01, -7.2977e-01, -4.4327e-01, -3.7276e-01,\n",
            "         -2.9553e-01, -2.9435e-01, -9.2265e-01, -3.0280e-01, -4.3286e-01,\n",
            "          3.6303e-01,  3.8786e-01, -3.6416e-01,  3.9969e-01,  3.2050e-01,\n",
            "          5.7309e-01,  6.6205e-02,  4.4340e-01,  1.7935e-01, -3.5642e-01,\n",
            "         -6.4370e-02,  1.6595e-01,  2.7731e-01, -6.6161e-01, -4.4265e-01,\n",
            "         -4.0089e-01,  4.9103e-01,  1.5391e-01, -1.2740e-01, -3.1732e-01,\n",
            "          1.7374e-01,  1.2263e-01,  4.6263e-01, -4.3279e-01, -7.1433e-01,\n",
            "          3.4683e-01,  6.6103e-01,  7.8518e-01, -3.2483e-01,  1.1618e-01,\n",
            "         -2.3091e-01,  4.2416e-01,  2.9202e-01,  6.6799e-02,  6.2711e-01,\n",
            "          7.5717e-01,  3.6991e-01,  2.9591e-01, -5.0976e-01,  7.8525e-01,\n",
            "         -2.8610e-01,  3.6813e-01, -3.0127e-01, -5.6377e-01,  1.7744e-01,\n",
            "          2.8768e-01, -2.7264e-01, -2.6974e-01,  6.5703e-01, -7.3994e-01,\n",
            "          9.3771e-01, -5.4311e-01,  7.7131e-02,  5.3093e-01, -1.9061e-02,\n",
            "          3.0603e-01, -4.8912e-01,  4.5003e-01, -2.8335e-01,  7.6700e-01,\n",
            "          7.2674e-01, -4.0878e-01,  5.9891e-01, -4.3930e-01,  7.1716e-02,\n",
            "          7.2388e-01,  6.0802e-01, -3.4751e-01, -2.8049e-01, -1.0353e-02,\n",
            "         -1.9156e-01,  1.3416e-01, -7.7931e-01,  1.0160e-02,  3.1260e-01,\n",
            "         -2.9656e-01, -6.2046e-03, -8.8365e-02, -7.7709e-01,  7.1900e-01,\n",
            "         -9.0129e-01, -6.5737e-01, -3.9071e-01, -2.4838e-01,  2.7179e-01,\n",
            "          5.3213e-02, -3.0945e-01,  1.5177e-01, -1.9836e-01,  7.2082e-01,\n",
            "         -5.0761e-01, -5.5568e-02,  1.8613e-01,  4.7418e-01, -1.0805e-01,\n",
            "          6.2525e-01, -4.2106e-02, -6.4560e-03,  2.7375e-01, -1.3486e-01,\n",
            "          4.2142e-01, -3.8442e-01,  1.3418e-01,  6.5829e-01,  8.0056e-02,\n",
            "         -6.5792e-01, -8.4103e-01,  5.4100e-02, -6.6812e-01,  6.9798e-02,\n",
            "         -3.0225e-01, -4.3769e-02,  2.8349e-01,  7.6174e-01,  4.9183e-01,\n",
            "          7.1875e-01, -3.6825e-01,  3.8565e-01,  2.1571e-01,  3.2121e-01,\n",
            "          2.7450e-01,  2.9253e-01,  6.3766e-02,  9.5042e-02,  6.0931e-01,\n",
            "          7.7624e-01, -6.9628e-01,  4.3751e-01, -2.6371e-01, -6.9742e-01,\n",
            "         -4.5297e-01,  4.7749e-01, -5.8194e-02, -6.9576e-01, -1.6822e-01,\n",
            "          4.0975e-01,  1.4091e-02, -2.8850e-01,  4.1000e-01, -1.3862e-01,\n",
            "          6.9581e-02, -4.0287e-01,  2.2217e-01, -6.6123e-01,  2.6755e-01,\n",
            "          3.0016e-01, -1.3337e-01,  8.1224e-01,  9.6980e-02, -4.1433e-01,\n",
            "         -6.6243e-01,  5.9961e-01, -4.8003e-01,  2.1801e-01,  4.0592e-01,\n",
            "         -3.6273e-02, -4.3748e-01,  4.8986e-02,  2.9752e-01,  6.2071e-01,\n",
            "         -1.6564e-01,  6.3183e-01, -6.0832e-01, -2.5140e-01,  4.1040e-01,\n",
            "         -4.1198e-01,  2.8916e-01,  4.1560e-01,  5.1418e-01,  6.9242e-01,\n",
            "          5.3169e-02,  3.1103e-01, -2.3431e-01, -6.6752e-01,  3.0327e-01,\n",
            "         -1.6545e-01,  4.8402e-01, -2.5723e-01, -4.9686e-01, -2.7376e-01,\n",
            "         -5.2087e-01, -7.0661e-01, -6.5255e-01,  4.8383e-01, -3.2214e-01,\n",
            "         -7.1221e-01,  6.4578e-02,  3.7639e-01, -3.2165e-01, -2.8946e-01,\n",
            "          4.9794e-02,  1.9215e-02, -5.2809e-01, -3.9860e-02,  8.0216e-01,\n",
            "          5.5969e-01,  6.5062e-01, -6.4103e-01, -1.4056e-01,  1.0938e-01,\n",
            "         -1.0174e-01,  1.6246e-01, -2.7428e-01, -6.0188e-01,  4.3518e-01,\n",
            "         -1.0971e-01,  5.6869e-01, -5.8103e-01,  6.2684e-01,  7.3341e-01,\n",
            "          1.2016e-01, -1.9334e-01, -2.2917e-01, -2.6998e-01, -2.1839e-01,\n",
            "         -6.8267e-01, -8.4781e-02, -5.0449e-01, -1.8493e-01, -2.8705e-01,\n",
            "         -3.5129e-02,  7.3052e-02,  2.3267e-01,  2.2144e-01, -7.1019e-01,\n",
            "          5.4655e-01,  4.5058e-02, -2.7777e-01, -5.6654e-01,  1.6380e-01,\n",
            "          1.1728e-01, -3.4326e-01,  2.9988e-01, -2.3141e-01,  2.9717e-01,\n",
            "          2.2160e-01,  1.4909e-01, -4.0893e-01, -3.0566e-01,  5.0997e-01,\n",
            "         -2.0116e-01, -2.8408e-01,  5.8282e-02,  1.5001e-01,  5.4362e-02,\n",
            "         -4.4138e-01,  4.1950e-01,  3.7841e-02, -8.0644e-01,  6.3314e-01,\n",
            "          2.8023e-01, -4.8404e-01,  1.5409e-01,  7.0618e-01, -7.5694e-01,\n",
            "          2.3422e-02, -9.0153e-02, -6.5617e-01,  1.4700e-02, -1.4540e-02,\n",
            "         -3.6361e-01, -3.9509e-01, -8.2822e-02,  7.0877e-01, -3.6078e-01,\n",
            "          8.7134e-01,  2.3196e-01, -3.7620e-01, -1.0445e-01, -3.1796e-01,\n",
            "         -4.8738e-01,  4.0618e-01, -2.3127e-01,  3.5351e-01,  2.1019e-01,\n",
            "         -5.0424e-01, -6.4766e-01, -5.6804e-01,  4.5896e-01, -4.6078e-01,\n",
            "         -9.3106e-01, -3.7270e-01,  3.1936e-01,  6.5069e-01, -3.6015e-01,\n",
            "         -5.7619e-01,  2.3546e-01, -7.2819e-01,  1.1347e-02,  1.7212e-01,\n",
            "          7.0571e-01, -4.6733e-01,  2.8350e-01,  2.1640e-01, -2.0670e-01,\n",
            "          2.8643e-02, -5.6401e-01, -6.6930e-01,  7.3840e-02, -1.0061e-01,\n",
            "          5.8767e-01, -6.8901e-01, -1.7992e-01, -1.1752e-01, -2.3857e-01,\n",
            "         -7.4480e-01, -4.8774e-01, -8.4256e-01, -2.1866e-01, -3.8804e-02,\n",
            "          5.6307e-01, -2.4100e-01, -8.7138e-01,  6.4992e-01, -9.0707e-03,\n",
            "         -6.9358e-01, -1.5146e-01, -5.7066e-01,  7.7319e-01, -2.5350e-01,\n",
            "         -8.8018e-01, -9.3545e-01,  5.0837e-01, -6.2396e-01, -4.0293e-01,\n",
            "          5.5916e-01,  2.4304e-01,  3.8125e-01, -6.1310e-02,  6.1749e-01,\n",
            "          2.8555e-01, -1.9208e-01, -4.5428e-02, -5.9882e-01, -2.9956e-01,\n",
            "         -2.4258e-01,  3.9272e-01, -1.8768e-01, -2.1407e-01,  1.8228e-01,\n",
            "         -7.7224e-01,  4.1868e-01,  7.0283e-01, -3.7531e-01,  2.7441e-01,\n",
            "          7.1799e-01, -5.2886e-01,  6.2748e-01, -6.0796e-01,  3.3362e-01,\n",
            "         -1.3010e-01, -4.4234e-01, -3.7025e-01,  9.4064e-02, -1.2172e-01,\n",
            "          1.9186e-01, -7.4052e-01,  3.3461e-01, -2.3362e-01,  3.4143e-01,\n",
            "         -3.3142e-02,  5.4520e-01,  4.4259e-01,  3.1704e-01, -5.4307e-01,\n",
            "         -3.9168e-01, -9.8106e-02,  4.5506e-01, -6.1553e-01,  5.3351e-01,\n",
            "          5.5586e-01,  7.8264e-01,  3.5121e-01, -2.1608e-01,  3.2454e-01,\n",
            "          4.3543e-01, -1.2186e-01,  2.1355e-01, -2.3898e-01, -2.8327e-01,\n",
            "         -6.0034e-01, -1.7762e-01, -5.9788e-01,  6.3206e-01,  4.9630e-01,\n",
            "          3.9543e-01,  2.0490e-01, -5.1575e-01,  2.6581e-01, -2.6137e-01,\n",
            "          4.8977e-01, -3.8064e-01,  2.1812e-01, -3.1988e-01,  6.0870e-01,\n",
            "          6.0607e-01,  6.2318e-01,  4.9826e-01, -8.7601e-02,  3.5623e-01,\n",
            "          2.5446e-01,  8.0286e-01,  7.8580e-01, -2.3200e-01,  4.7918e-01,\n",
            "          5.5957e-01,  5.5005e-03, -8.0081e-02, -2.9930e-01,  2.8298e-01,\n",
            "          6.9661e-01, -2.6440e-01,  8.4291e-01, -5.8111e-01,  1.4779e-01,\n",
            "         -4.9722e-01,  1.8820e-01, -5.1553e-01,  4.2760e-01, -5.3460e-01,\n",
            "         -3.9114e-01, -8.1983e-02, -4.0124e-01,  2.6169e-02, -8.3181e-02,\n",
            "          2.7138e-01,  5.6658e-01,  4.8696e-01, -1.6161e-01,  7.6121e-01,\n",
            "         -9.9289e-02,  3.5380e-01, -2.3014e-01, -2.6945e-01, -4.4423e-01,\n",
            "         -2.4649e-02, -1.4195e-01, -5.4013e-01, -5.4709e-02, -5.4431e-01,\n",
            "          6.4206e-01, -1.6255e-01,  2.3458e-01, -2.3333e-01,  1.2247e-01,\n",
            "         -2.2412e-01,  1.6700e-01,  4.1067e-01, -8.3444e-01, -4.0692e-01,\n",
            "         -4.6311e-01,  4.2220e-01, -3.7176e-01, -3.3428e-01,  3.2388e-01,\n",
            "         -6.2916e-01, -1.2515e-01, -9.9798e-02,  5.9395e-02,  2.9756e-01,\n",
            "          1.1595e-01,  1.6649e-01,  6.4482e-01,  6.5129e-01, -1.9297e-01,\n",
            "          2.3304e-01, -1.3541e-01, -3.3210e-01,  1.8461e-01,  5.0678e-01,\n",
            "         -4.7461e-01, -2.3955e-01, -6.3060e-01, -3.0671e-01, -1.5186e-01,\n",
            "          7.5914e-01,  1.0141e-01,  7.3717e-01,  9.4496e-02, -3.1158e-01,\n",
            "          8.3543e-01,  7.0868e-01,  3.9680e-01, -8.2040e-02, -4.4429e-02,\n",
            "         -4.4410e-01,  7.4704e-01, -2.2474e-01,  2.1898e-01, -6.7223e-01,\n",
            "          1.4694e-01, -3.9225e-01, -5.8206e-01,  4.0334e-01,  8.9843e-02,\n",
            "          1.3244e-01,  1.9488e-01, -2.0273e-01,  5.2678e-01, -5.8588e-01,\n",
            "         -5.2453e-01,  1.9292e-01,  5.4820e-01,  3.2931e-01,  3.8340e-03,\n",
            "         -9.6242e-01, -1.4419e-01,  8.0263e-03, -2.2085e-01, -3.0196e-01,\n",
            "          5.2802e-02, -4.2820e-01,  2.2799e-01, -5.8516e-01,  1.9749e-01,\n",
            "         -6.0291e-01, -3.0952e-01, -5.3133e-01, -4.6435e-01, -6.3003e-01,\n",
            "         -3.6815e-01,  1.2852e-01,  5.3521e-01,  4.9116e-01,  5.9152e-01,\n",
            "          4.5367e-01,  2.0994e-01, -6.5675e-01, -1.9319e-01,  7.4286e-01,\n",
            "          3.3144e-01,  4.1861e-01, -8.7943e-01, -4.6991e-01, -9.6400e-02,\n",
            "         -3.8142e-01, -1.5616e-01, -1.0843e-01, -4.0019e-01,  2.0885e-01,\n",
            "          3.9638e-01,  1.1342e-01,  6.8276e-01, -6.2688e-01,  7.1024e-01,\n",
            "          4.9619e-01, -2.1083e-01,  2.2836e-01, -1.6847e-01,  1.2403e-01,\n",
            "         -3.8047e-01,  2.1544e-01,  1.1208e-01,  1.8331e-01,  1.2556e-01,\n",
            "         -1.8129e-01, -3.8202e-02,  2.9250e-01,  6.2695e-01, -2.8900e-02,\n",
            "         -7.2298e-02,  1.4469e-01, -6.7877e-01, -5.5757e-01, -7.5049e-01,\n",
            "          4.5936e-01,  4.7924e-01, -1.2915e-01,  6.5045e-01,  5.6581e-01,\n",
            "         -4.0240e-01,  7.3867e-01,  6.3248e-01, -7.1696e-01,  3.6576e-01,\n",
            "          5.3684e-01,  6.0438e-02,  7.7622e-01,  7.4021e-01, -1.0070e-01,\n",
            "          6.6969e-01, -2.6027e-01, -2.3231e-01, -6.3988e-01,  5.5709e-01,\n",
            "          3.0671e-01,  3.4651e-01,  4.7600e-01,  2.2638e-01, -3.2494e-01,\n",
            "         -5.3722e-02,  3.4005e-01, -3.2475e-01,  7.8583e-01, -5.7848e-01,\n",
            "          3.1207e-01,  7.1566e-01,  3.2498e-01, -4.0906e-02, -7.1223e-02,\n",
            "          5.8027e-01,  5.8583e-02,  8.4708e-02,  6.3658e-01,  3.1377e-01,\n",
            "          4.0348e-01, -6.3359e-03, -1.3354e-01,  3.9769e-02, -6.8202e-01,\n",
            "         -6.2569e-01,  4.0169e-01,  9.7751e-02,  4.4282e-01,  3.6209e-01,\n",
            "         -3.4747e-01, -6.7197e-01, -8.8734e-01,  6.1067e-01,  2.9763e-01,\n",
            "          4.3228e-01,  3.4507e-01,  3.2767e-01,  1.0024e-01,  4.3619e-02,\n",
            "         -5.3617e-01,  5.1804e-01,  6.2626e-01, -2.3724e-01,  1.0491e-01,\n",
            "         -6.9584e-01,  7.9815e-02, -2.4441e-01, -4.4448e-01,  4.0993e-01,\n",
            "          6.8978e-01, -2.3731e-01,  4.9319e-01,  6.3551e-01, -7.5442e-01,\n",
            "         -5.3700e-01,  8.1303e-01,  1.1667e-01, -7.3016e-01, -6.6119e-01,\n",
            "          2.6509e-01, -1.1313e-01,  6.5740e-01, -2.7957e-01,  5.7003e-02,\n",
            "         -4.4919e-01,  4.5332e-01,  2.5136e-01,  1.5129e-01, -2.7634e-01,\n",
            "          3.8665e-01,  2.3276e-02, -3.5007e-01, -3.4782e-01, -1.1143e-01,\n",
            "         -1.6234e-01, -4.3136e-02, -2.4882e-01,  6.2289e-01,  1.9976e-01,\n",
            "          7.4503e-01,  2.2444e-01, -4.3143e-01,  8.7811e-01,  2.3814e-01,\n",
            "          5.5175e-01, -2.1686e-01, -1.5457e-01, -5.2366e-02,  3.5814e-01,\n",
            "          2.0621e-01, -6.4110e-01, -4.4220e-01,  4.0608e-01, -1.7537e-02,\n",
            "          2.4418e-01, -6.3539e-01, -5.7362e-01,  6.8261e-02,  3.1973e-01,\n",
            "         -2.1874e-02, -3.6812e-04,  1.3969e-01]]), hidden_states=None, past_key_values=None, attentions=None, cross_attentions=None)\n"
          ]
        }
      ],
      "source": [
        "inputs = {k:v.to(device) for k,v in inputs.items()}\n",
        "with torch.no_grad():\n",
        "    outputs = model(**inputs)\n",
        "print(outputs)"
      ]
    },
    {
      "cell_type": "code",
      "execution_count": 78,
      "metadata": {
        "colab": {
          "base_uri": "https://localhost:8080/"
        },
        "id": "t9ltSBJv2RNq",
        "outputId": "0bbc20b4-575f-4867-da3c-b438d689b7cf"
      },
      "outputs": [
        {
          "data": {
            "text/plain": [
              "torch.Size([1, 6, 768])"
            ]
          },
          "execution_count": 78,
          "metadata": {},
          "output_type": "execute_result"
        }
      ],
      "source": [
        "outputs.last_hidden_state.size()"
      ]
    },
    {
      "cell_type": "code",
      "execution_count": 79,
      "metadata": {
        "colab": {
          "base_uri": "https://localhost:8080/"
        },
        "id": "HU7Cq8TT2UuT",
        "outputId": "c9ecc26f-4fad-40d7-8b26-aef9ee700bae"
      },
      "outputs": [
        {
          "data": {
            "text/plain": [
              "torch.Size([1, 768])"
            ]
          },
          "execution_count": 79,
          "metadata": {},
          "output_type": "execute_result"
        }
      ],
      "source": [
        "outputs.last_hidden_state[:,0].size()"
      ]
    },
    {
      "cell_type": "code",
      "execution_count": 80,
      "metadata": {
        "id": "LRDJ_Fix2Z9m"
      },
      "outputs": [],
      "source": [
        "def extract_hidden_states(batch):\n",
        "    # Place model inputs on the GPU\n",
        "    inputs = {k:v.to(device) for k,v in batch.items()\n",
        "              if k in tokenizer.model_input_names}\n",
        "    # Extract last hidden states\n",
        "    with torch.no_grad():\n",
        "        last_hidden_state = model(**inputs).last_hidden_state\n",
        "    # Return vector for [CLS] token\n",
        "    return {\"hidden_state\": last_hidden_state[:,0].cpu().numpy()}\n",
        "# def extract_hidden_states(batch):\n",
        "#     # Place model inputs on the GPU\n",
        "#     inputs = {k: torch.tensor(v).to(device) if isinstance(v, list) else v.to(device)\n",
        "#               for k,v in batch.items()\n",
        "#               if k in tokenizer.model_input_names}\n",
        "#     # Extract last hidden states\n",
        "#     with torch.no_grad():\n",
        "#         last_hidden_state = model(**inputs).last_hidden_state\n",
        "#     # Return vector for [CLS] token\n",
        "#     return {\"hidden_state\": last_hidden_state[:,0].cpu().numpy()}"
      ]
    },
    {
      "cell_type": "code",
      "execution_count": 81,
      "metadata": {
        "id": "I-4JXJGx2dGW"
      },
      "outputs": [],
      "source": [
        "tweets_encoded.set_format(\"torch\",  columns=[\"input_ids\", \"attention_mask\", CLASS_COL_ST1])"
      ]
    },
    {
      "cell_type": "code",
      "execution_count": 82,
      "metadata": {
        "colab": {
          "base_uri": "https://localhost:8080/",
          "height": 354,
          "referenced_widgets": [
            "1ab3f10aa573435aaaa0cc05b902a623",
            "329d12a1a012485f87228048b4588b86",
            "9c9c2c96eaa04571b8d5cec4d229670c",
            "a9d6dd93fef2485a8de81de0b04c8b8f",
            "e0df6bcc6e4d422d83376192e18f81b8",
            "e66054f45bc7404eafa0f7df8b9e90b6",
            "91751682a9124c83be5af0bff3353ae2",
            "60ac78d041664616b3d91d639d563246",
            "26895a733b62438ea91bf668590fd0bd",
            "62f1f8a696cf4ab398c9d286b669362a",
            "bb333255b8de4a128e722e63adee2525"
          ]
        },
        "id": "IAptak0s2mqx",
        "outputId": "1cc8fe13-a33b-47e9-e628-8f27ba029c69"
      },
      "outputs": [
        {
          "data": {
            "application/vnd.jupyter.widget-view+json": {
              "model_id": "c051cc9d785e46a3af934efefeea1687",
              "version_major": 2,
              "version_minor": 0
            },
            "text/plain": [
              "Map:   0%|          | 0/3362 [00:00<?, ? examples/s]"
            ]
          },
          "metadata": {},
          "output_type": "display_data"
        },
        {
          "data": {
            "application/vnd.jupyter.widget-view+json": {
              "model_id": "207a5421cbe746158eab2b67250f20fb",
              "version_major": 2,
              "version_minor": 0
            },
            "text/plain": [
              "Map:   0%|          | 0/50 [00:00<?, ? examples/s]"
            ]
          },
          "metadata": {},
          "output_type": "display_data"
        }
      ],
      "source": [
        "tweets_hidden = tweets_encoded.map(extract_hidden_states, batched=True)"
      ]
    },
    {
      "cell_type": "code",
      "execution_count": 83,
      "metadata": {
        "id": "4DlFRQn94CxD"
      },
      "outputs": [],
      "source": [
        "def label_int2str(row):\n",
        "    return df[\"train\"].features[CLASS_COL_ST1].int2str(row)"
      ]
    },
    {
      "cell_type": "code",
      "execution_count": 84,
      "metadata": {
        "id": "nCJVDoXR4GvX"
      },
      "outputs": [
        {
          "data": {
            "text/plain": [
              "['text', 'label', 'input_ids', 'attention_mask', 'hidden_state']"
            ]
          },
          "execution_count": 84,
          "metadata": {},
          "output_type": "execute_result"
        }
      ],
      "source": [
        "tweets_hidden[\"train\"].column_names"
      ]
    },
    {
      "cell_type": "code",
      "execution_count": 85,
      "metadata": {
        "id": "NzmEwPI_4JAP"
      },
      "outputs": [
        {
          "data": {
            "text/plain": [
              "((3362, 768), (50, 768))"
            ]
          },
          "execution_count": 85,
          "metadata": {},
          "output_type": "execute_result"
        }
      ],
      "source": [
        "import numpy as np\n",
        "\n",
        "X_train = np.array(tweets_hidden[\"train\"][\"hidden_state\"])\n",
        "X_valid = np.array(tweets_hidden[\"test\"][\"hidden_state\"])\n",
        "y_train = np.array(tweets_hidden[\"train\"][CLASS_COL_ST1])\n",
        "y_valid = np.array(tweets_hidden[\"test\"][CLASS_COL_ST1])\n",
        "X_train.shape, X_valid.shape"
      ]
    },
    {
      "cell_type": "code",
      "execution_count": 86,
      "metadata": {
        "id": "ey0MCqGR6rmW"
      },
      "outputs": [
        {
          "data": {
            "text/html": [
              "<div>\n",
              "<style scoped>\n",
              "    .dataframe tbody tr th:only-of-type {\n",
              "        vertical-align: middle;\n",
              "    }\n",
              "\n",
              "    .dataframe tbody tr th {\n",
              "        vertical-align: top;\n",
              "    }\n",
              "\n",
              "    .dataframe thead th {\n",
              "        text-align: right;\n",
              "    }\n",
              "</style>\n",
              "<table border=\"1\" class=\"dataframe\">\n",
              "  <thead>\n",
              "    <tr style=\"text-align: right;\">\n",
              "      <th></th>\n",
              "      <th>X</th>\n",
              "      <th>Y</th>\n",
              "      <th>label</th>\n",
              "    </tr>\n",
              "  </thead>\n",
              "  <tbody>\n",
              "    <tr>\n",
              "      <th>0</th>\n",
              "      <td>7.160400</td>\n",
              "      <td>9.946771</td>\n",
              "      <td>0</td>\n",
              "    </tr>\n",
              "    <tr>\n",
              "      <th>1</th>\n",
              "      <td>8.302866</td>\n",
              "      <td>8.803260</td>\n",
              "      <td>1</td>\n",
              "    </tr>\n",
              "    <tr>\n",
              "      <th>2</th>\n",
              "      <td>9.449741</td>\n",
              "      <td>9.917082</td>\n",
              "      <td>1</td>\n",
              "    </tr>\n",
              "    <tr>\n",
              "      <th>3</th>\n",
              "      <td>10.141050</td>\n",
              "      <td>14.586168</td>\n",
              "      <td>1</td>\n",
              "    </tr>\n",
              "    <tr>\n",
              "      <th>4</th>\n",
              "      <td>8.588529</td>\n",
              "      <td>11.596406</td>\n",
              "      <td>1</td>\n",
              "    </tr>\n",
              "  </tbody>\n",
              "</table>\n",
              "</div>"
            ],
            "text/plain": [
              "           X          Y  label\n",
              "0   7.160400   9.946771      0\n",
              "1   8.302866   8.803260      1\n",
              "2   9.449741   9.917082      1\n",
              "3  10.141050  14.586168      1\n",
              "4   8.588529  11.596406      1"
            ]
          },
          "execution_count": 86,
          "metadata": {},
          "output_type": "execute_result"
        }
      ],
      "source": [
        "from umap import UMAP\n",
        "from sklearn.preprocessing import MinMaxScaler\n",
        "\n",
        "# Scale features to [0,1] range\n",
        "X_scaled = MinMaxScaler().fit_transform(X_train)\n",
        "# Initialize and fit UMAP\n",
        "mapper = UMAP(n_components=2, metric=\"cosine\").fit(X_scaled)\n",
        "# Create a DataFrame of 2D embeddings\n",
        "df_emb = pd.DataFrame(mapper.embedding_, columns=[\"X\", \"Y\"])\n",
        "df_emb[CLASS_COL_ST1] = y_train\n",
        "df_emb.head()"
      ]
    },
    {
      "cell_type": "code",
      "execution_count": 87,
      "metadata": {},
      "outputs": [
        {
          "data": {
            "text/plain": [
              "{'text': Value(dtype='string', id=None),\n",
              " 'label': ClassLabel(names=['harmful', 'neutral'], id=None)}"
            ]
          },
          "execution_count": 87,
          "metadata": {},
          "output_type": "execute_result"
        }
      ],
      "source": [
        "df['train'].features"
      ]
    },
    {
      "cell_type": "code",
      "execution_count": 97,
      "metadata": {
        "id": "dEPSssSC6uWj"
      },
      "outputs": [
        {
          "data": {
            "image/png": "[encoded data removed]",
            "text/plain": [
              "<Figure size 700x500 with 2 Axes>"
            ]
          },
          "metadata": {},
          "output_type": "display_data"
        }
      ],
      "source": [
        "fig, axes = plt.subplots(1, 2, figsize=(7,5))\n",
        "axes = axes.flatten()\n",
        "cmaps = [\"Greys\", \"Blues\", \"Oranges\", \"Reds\", \"Purples\", \"Greens\"]\n",
        "labels = df[\"train\"].features[\"label\"].names\n",
        "\n",
        "for i, (label, cmap) in enumerate(zip(labels, cmaps)):\n",
        "    df_emb_sub = df_emb.query(f\"label == {i}\")\n",
        "    axes[i].hexbin(df_emb_sub[\"X\"], df_emb_sub[\"Y\"],# cmap=cmap,\n",
        "                   gridsize=20, linewidths=(0,))\n",
        "    axes[i].set_title(label)\n",
        "    axes[i].set_xticks([]), axes[i].set_yticks([])\n",
        "\n",
        "plt.tight_layout()\n",
        "plt.show()"
      ]
    },
    {
      "cell_type": "code",
      "execution_count": 94,
      "metadata": {
        "id": "BCXvhUS_65mN"
      },
      "outputs": [
        {
          "data": {
            "text/plain": [
              "0.82"
            ]
          },
          "execution_count": 94,
          "metadata": {},
          "output_type": "execute_result"
        }
      ],
      "source": [
        "from sklearn.linear_model import LogisticRegression\n",
        "\n",
        "# We increase `max_iter` to guarantee convergence\n",
        "lr_clf = LogisticRegression(max_iter=5000)\n",
        "lr_clf.fit(X_train, y_train)\n",
        "lr_clf.score(X_valid, y_valid)"
      ]
    },
    {
      "cell_type": "code",
      "execution_count": 95,
      "metadata": {},
      "outputs": [
        {
          "data": {
            "text/plain": [
              "0.54"
            ]
          },
          "execution_count": 95,
          "metadata": {},
          "output_type": "execute_result"
        }
      ],
      "source": [
        "from sklearn.dummy import DummyClassifier\n",
        "\n",
        "dummy_clf = DummyClassifier(strategy=\"most_frequent\")\n",
        "dummy_clf.fit(X_train, y_train)\n",
        "dummy_clf.score(X_valid, y_valid)"
      ]
    },
    {
      "cell_type": "code",
      "execution_count": 96,
      "metadata": {},
      "outputs": [
        {
          "data": {
            "image/png": "[encoded data removed]",
            "text/plain": [
              "<Figure size 600x600 with 1 Axes>"
            ]
          },
          "metadata": {},
          "output_type": "display_data"
        }
      ],
      "source": [
        "from sklearn.metrics import ConfusionMatrixDisplay, confusion_matrix\n",
        "\n",
        "def plot_confusion_matrix(y_preds, y_true, labels):\n",
        "    cm = confusion_matrix(y_true, y_preds, normalize=\"true\")\n",
        "    fig, ax = plt.subplots(figsize=(6, 6))\n",
        "    disp = ConfusionMatrixDisplay(confusion_matrix=cm, display_labels=labels)\n",
        "    disp.plot(cmap=\"Blues\", values_format=\".2f\", ax=ax, colorbar=False)\n",
        "    plt.title(\"Normalized confusion matrix\")\n",
        "    plt.show()\n",
        "\n",
        "y_preds = lr_clf.predict(X_valid)\n",
        "plot_confusion_matrix(y_preds, y_valid, labels)"
      ]
    },
    {
      "cell_type": "code",
      "execution_count": 45,
      "metadata": {},
      "outputs": [
        {
          "name": "stderr",
          "output_type": "stream",
          "text": [
            "Some weights of RobertaForSequenceClassification were not initialized from the model checkpoint at cardiffnlp/twitter-roberta-base-sentiment and are newly initialized because the shapes did not match:\n",
            "- classifier.out_proj.weight: found shape torch.Size([3, 768]) in the checkpoint and torch.Size([2, 768]) in the model instantiated\n",
            "- classifier.out_proj.bias: found shape torch.Size([3]) in the checkpoint and torch.Size([2]) in the model instantiated\n",
            "You should probably TRAIN this model on a down-stream task to be able to use it for predictions and inference.\n"
          ]
        }
      ],
      "source": [
        "from transformers import AutoModelForSequenceClassification\n",
        "\n",
        "num_labels = 2\n",
        "model = (AutoModelForSequenceClassification\n",
        "         .from_pretrained(model_ckpt, num_labels=num_labels, ignore_mismatched_sizes=True)\n",
        "         .to(device))"
      ]
    },
    {
      "cell_type": "code",
      "execution_count": 46,
      "metadata": {},
      "outputs": [],
      "source": [
        "from sklearn.metrics import accuracy_score, f1_score\n",
        "\n",
        "def compute_metrics(pred):\n",
        "    labels = pred.label_ids\n",
        "    preds = pred.predictions.argmax(-1)\n",
        "    f1 = f1_score(labels, preds, average=\"weighted\")\n",
        "    acc = accuracy_score(labels, preds)\n",
        "    return {\"accuracy\": acc, \"f1\": f1}"
      ]
    },
    {
      "cell_type": "code",
      "execution_count": 47,
      "metadata": {},
      "outputs": [
        {
          "name": "stdout",
          "output_type": "stream",
          "text": [
            "Token is valid.\n",
            "Your token has been saved in your configured git credential helpers (manager-core).\n",
            "Your token has been saved to C:\\Users\\OWNER\\.cache\\huggingface\\token\n",
            "Login successful\n"
          ]
        }
      ],
      "source": [
        "from huggingface_hub import notebook_login\n",
        "\n",
        "notebook_login()"
      ]
    },
    {
      "cell_type": "code",
      "execution_count": 52,
      "metadata": {},
      "outputs": [],
      "source": [
        "from transformers import Trainer, TrainingArguments\n",
        "\n",
        "batch_size = 16\n",
        "logging_steps = len(tweets_encoded[\"train\"]) // batch_size\n",
        "model_name = f\"{model_ckpt}-finetuned-emotion\"\n",
        "training_args = TrainingArguments(output_dir=model_name,\n",
        "                                  num_train_epochs=3,\n",
        "                                  learning_rate=2e-5,\n",
        "                                  per_device_train_batch_size=batch_size,\n",
        "                                  per_device_eval_batch_size=batch_size,\n",
        "                                  weight_decay=0.01,\n",
        "                                  evaluation_strategy=\"epoch\",\n",
        "                                  disable_tqdm=False,\n",
        "                                  logging_steps=logging_steps,\n",
        "                                  push_to_hub=True,\n",
        "                                  log_level=\"error\")"
      ]
    },
    {
      "cell_type": "code",
      "execution_count": 53,
      "metadata": {},
      "outputs": [
        {
          "name": "stderr",
          "output_type": "stream",
          "text": [
            "Cloning https://huggingface.co/csuazob/twitter-roberta-base-sentiment-finetuned-emotion into local empty directory.\n",
            "c:\\Users\\OWNER\\anaconda3\\envs\\nlpbook\\lib\\site-packages\\transformers\\optimization.py:306: FutureWarning: This implementation of AdamW is deprecated and will be removed in a future version. Use the PyTorch implementation torch.optim.AdamW instead, or set `no_deprecation_warning=True` to disable this warning\n",
            "  warnings.warn(\n"
          ]
        },
        {
          "data": {
            "application/vnd.jupyter.widget-view+json": {
              "model_id": "7e6eb612d969439490030fcb772c165c",
              "version_major": 2,
              "version_minor": 0
            },
            "text/plain": [
              "  0%|          | 0/633 [00:00<?, ?it/s]"
            ]
          },
          "metadata": {},
          "output_type": "display_data"
        },
        {
          "name": "stdout",
          "output_type": "stream",
          "text": [
            "{'loss': 0.5708, 'learning_rate': 1.3364928909952607e-05, 'epoch': 1.0}\n"
          ]
        },
        {
          "data": {
            "application/vnd.jupyter.widget-view+json": {
              "model_id": "4d375cce56074c24b58a5e3e090041a8",
              "version_major": 2,
              "version_minor": 0
            },
            "text/plain": [
              "  0%|          | 0/4 [00:00<?, ?it/s]"
            ]
          },
          "metadata": {},
          "output_type": "display_data"
        },
        {
          "name": "stdout",
          "output_type": "stream",
          "text": [
            "{'eval_loss': 0.6440387964248657, 'eval_accuracy': 0.7, 'eval_f1': 0.6944191814799504, 'eval_runtime': 5.2855, 'eval_samples_per_second': 9.46, 'eval_steps_per_second': 0.757, 'epoch': 1.0}\n",
            "{'loss': 0.4539, 'learning_rate': 6.729857819905213e-06, 'epoch': 1.99}\n"
          ]
        },
        {
          "data": {
            "application/vnd.jupyter.widget-view+json": {
              "model_id": "25c094e4235a4f0b807a8f96a089ead8",
              "version_major": 2,
              "version_minor": 0
            },
            "text/plain": [
              "  0%|          | 0/4 [00:00<?, ?it/s]"
            ]
          },
          "metadata": {},
          "output_type": "display_data"
        },
        {
          "name": "stdout",
          "output_type": "stream",
          "text": [
            "{'eval_loss': 0.46936413645744324, 'eval_accuracy': 0.8, 'eval_f1': 0.7990259740259741, 'eval_runtime': 4.9853, 'eval_samples_per_second': 10.03, 'eval_steps_per_second': 0.802, 'epoch': 2.0}\n",
            "{'loss': 0.3921, 'learning_rate': 9.478672985781992e-08, 'epoch': 2.99}\n"
          ]
        },
        {
          "data": {
            "application/vnd.jupyter.widget-view+json": {
              "model_id": "49423f0eb0834996bbfc963215e9940b",
              "version_major": 2,
              "version_minor": 0
            },
            "text/plain": [
              "  0%|          | 0/4 [00:00<?, ?it/s]"
            ]
          },
          "metadata": {},
          "output_type": "display_data"
        },
        {
          "name": "stdout",
          "output_type": "stream",
          "text": [
            "{'eval_loss': 0.5680455565452576, 'eval_accuracy': 0.74, 'eval_f1': 0.735163290615957, 'eval_runtime': 5.455, 'eval_samples_per_second': 9.166, 'eval_steps_per_second': 0.733, 'epoch': 3.0}\n",
            "{'train_runtime': 7532.0536, 'train_samples_per_second': 1.339, 'train_steps_per_second': 0.084, 'train_loss': 0.4710910001072273, 'epoch': 3.0}\n"
          ]
        }
      ],
      "source": [
        "from transformers import Trainer\n",
        "\n",
        "trainer = Trainer(model=model, args=training_args,\n",
        "                  compute_metrics=compute_metrics,\n",
        "                  train_dataset=tweets_encoded[\"train\"],\n",
        "                  eval_dataset=tweets_encoded[\"test\"],\n",
        "                  tokenizer=tokenizer)\n",
        "trainer.train();"
      ]
    }
  ],
  "metadata": {
    "accelerator": "GPU",
    "colab": {
      "provenance": []
    },
    "gpuClass": "standard",
    "kernelspec": {
      "display_name": "nlpbook",
      "language": "python",
      "name": "nlpbook"
    },
    "language_info": {
      "codemirror_mode": {
        "name": "ipython",
        "version": 3
      },
      "file_extension": ".py",
      "mimetype": "text/x-python",
      "name": "python",
      "nbconvert_exporter": "python",
      "pygments_lexer": "ipython3",
      "version": "3.10.8"
    },
    "widgets": {
      "application/vnd.jupyter.widget-state+json": {
        "0738ed3702444d24937e448de46890f0": {
          "model_module": "@jupyter-widgets/controls",
          "model_module_version": "1.5.0",
          "model_name": "HTMLModel",
          "state": {
            "_dom_classes": [],
            "_model_module": "@jupyter-widgets/controls",
            "_model_module_version": "1.5.0",
            "_model_name": "HTMLModel",
            "_view_count": null,
            "_view_module": "@jupyter-widgets/controls",
            "_view_module_version": "1.5.0",
            "_view_name": "HTMLView",
            "description": "",
            "description_tooltip": null,
            "layout": "IPY_MODEL_5d1cb39960f347a0afb2031390fa1c8d",
            "placeholder": "​",
            "style": "IPY_MODEL_d1aa0e8c2c184c85a005e00ec15095d1",
            "value": "100%"
          }
        },
        "1343aa66166e427bbe9b42032d67b375": {
          "model_module": "@jupyter-widgets/controls",
          "model_module_version": "1.5.0",
          "model_name": "HBoxModel",
          "state": {
            "_dom_classes": [],
            "_model_module": "@jupyter-widgets/controls",
            "_model_module_version": "1.5.0",
            "_model_name": "HBoxModel",
            "_view_count": null,
            "_view_module": "@jupyter-widgets/controls",
            "_view_module_version": "1.5.0",
            "_view_name": "HBoxView",
            "box_style": "",
            "children": [
              "IPY_MODEL_378cd0be7e3148c18eadc0410d820f79",
              "IPY_MODEL_c560ca57e31a4811b9ae5641faf2405f",
              "IPY_MODEL_6ea7e2475b0b461d8cb29a02bcfa1be6"
            ],
            "layout": "IPY_MODEL_4c86f101d73640bebd986081a1a53dd8"
          }
        },
        "1ab3f10aa573435aaaa0cc05b902a623": {
          "model_module": "@jupyter-widgets/controls",
          "model_module_version": "1.5.0",
          "model_name": "HBoxModel",
          "state": {
            "_dom_classes": [],
            "_model_module": "@jupyter-widgets/controls",
            "_model_module_version": "1.5.0",
            "_model_name": "HBoxModel",
            "_view_count": null,
            "_view_module": "@jupyter-widgets/controls",
            "_view_module_version": "1.5.0",
            "_view_name": "HBoxView",
            "box_style": "",
            "children": [
              "IPY_MODEL_329d12a1a012485f87228048b4588b86",
              "IPY_MODEL_9c9c2c96eaa04571b8d5cec4d229670c",
              "IPY_MODEL_a9d6dd93fef2485a8de81de0b04c8b8f"
            ],
            "layout": "IPY_MODEL_e0df6bcc6e4d422d83376192e18f81b8"
          }
        },
        "1be830e44eef4220b72cfe9c045d770d": {
          "model_module": "@jupyter-widgets/base",
          "model_module_version": "1.2.0",
          "model_name": "LayoutModel",
          "state": {
            "_model_module": "@jupyter-widgets/base",
            "_model_module_version": "1.2.0",
            "_model_name": "LayoutModel",
            "_view_count": null,
            "_view_module": "@jupyter-widgets/base",
            "_view_module_version": "1.2.0",
            "_view_name": "LayoutView",
            "align_content": null,
            "align_items": null,
            "align_self": null,
            "border": null,
            "bottom": null,
            "display": null,
            "flex": null,
            "flex_flow": null,
            "grid_area": null,
            "grid_auto_columns": null,
            "grid_auto_flow": null,
            "grid_auto_rows": null,
            "grid_column": null,
            "grid_gap": null,
            "grid_row": null,
            "grid_template_areas": null,
            "grid_template_columns": null,
            "grid_template_rows": null,
            "height": null,
            "justify_content": null,
            "justify_items": null,
            "left": null,
            "margin": null,
            "max_height": null,
            "max_width": null,
            "min_height": null,
            "min_width": null,
            "object_fit": null,
            "object_position": null,
            "order": null,
            "overflow": null,
            "overflow_x": null,
            "overflow_y": null,
            "padding": null,
            "right": null,
            "top": null,
            "visibility": "hidden",
            "width": null
          }
        },
        "26895a733b62438ea91bf668590fd0bd": {
          "model_module": "@jupyter-widgets/controls",
          "model_module_version": "1.5.0",
          "model_name": "ProgressStyleModel",
          "state": {
            "_model_module": "@jupyter-widgets/controls",
            "_model_module_version": "1.5.0",
            "_model_name": "ProgressStyleModel",
            "_view_count": null,
            "_view_module": "@jupyter-widgets/base",
            "_view_module_version": "1.2.0",
            "_view_name": "StyleView",
            "bar_color": null,
            "description_width": ""
          }
        },
        "291a06e505c541c69c41ad45593239a3": {
          "model_module": "@jupyter-widgets/controls",
          "model_module_version": "1.5.0",
          "model_name": "DescriptionStyleModel",
          "state": {
            "_model_module": "@jupyter-widgets/controls",
            "_model_module_version": "1.5.0",
            "_model_name": "DescriptionStyleModel",
            "_view_count": null,
            "_view_module": "@jupyter-widgets/base",
            "_view_module_version": "1.2.0",
            "_view_name": "StyleView",
            "description_width": ""
          }
        },
        "329d12a1a012485f87228048b4588b86": {
          "model_module": "@jupyter-widgets/controls",
          "model_module_version": "1.5.0",
          "model_name": "HTMLModel",
          "state": {
            "_dom_classes": [],
            "_model_module": "@jupyter-widgets/controls",
            "_model_module_version": "1.5.0",
            "_model_name": "HTMLModel",
            "_view_count": null,
            "_view_module": "@jupyter-widgets/controls",
            "_view_module_version": "1.5.0",
            "_view_name": "HTMLView",
            "description": "",
            "description_tooltip": null,
            "layout": "IPY_MODEL_e66054f45bc7404eafa0f7df8b9e90b6",
            "placeholder": "​",
            "style": "IPY_MODEL_91751682a9124c83be5af0bff3353ae2",
            "value": "Map:   0%"
          }
        },
        "32b428d336394d4fa0c9f0797d488a5b": {
          "model_module": "@jupyter-widgets/base",
          "model_module_version": "1.2.0",
          "model_name": "LayoutModel",
          "state": {
            "_model_module": "@jupyter-widgets/base",
            "_model_module_version": "1.2.0",
            "_model_name": "LayoutModel",
            "_view_count": null,
            "_view_module": "@jupyter-widgets/base",
            "_view_module_version": "1.2.0",
            "_view_name": "LayoutView",
            "align_content": null,
            "align_items": null,
            "align_self": null,
            "border": null,
            "bottom": null,
            "display": null,
            "flex": null,
            "flex_flow": null,
            "grid_area": null,
            "grid_auto_columns": null,
            "grid_auto_flow": null,
            "grid_auto_rows": null,
            "grid_column": null,
            "grid_gap": null,
            "grid_row": null,
            "grid_template_areas": null,
            "grid_template_columns": null,
            "grid_template_rows": null,
            "height": null,
            "justify_content": null,
            "justify_items": null,
            "left": null,
            "margin": null,
            "max_height": null,
            "max_width": null,
            "min_height": null,
            "min_width": null,
            "object_fit": null,
            "object_position": null,
            "order": null,
            "overflow": null,
            "overflow_x": null,
            "overflow_y": null,
            "padding": null,
            "right": null,
            "top": null,
            "visibility": null,
            "width": null
          }
        },
        "3314537d3297403eb325be8f65f4ea63": {
          "model_module": "@jupyter-widgets/controls",
          "model_module_version": "1.5.0",
          "model_name": "ProgressStyleModel",
          "state": {
            "_model_module": "@jupyter-widgets/controls",
            "_model_module_version": "1.5.0",
            "_model_name": "ProgressStyleModel",
            "_view_count": null,
            "_view_module": "@jupyter-widgets/base",
            "_view_module_version": "1.2.0",
            "_view_name": "StyleView",
            "bar_color": null,
            "description_width": ""
          }
        },
        "378cd0be7e3148c18eadc0410d820f79": {
          "model_module": "@jupyter-widgets/controls",
          "model_module_version": "1.5.0",
          "model_name": "HTMLModel",
          "state": {
            "_dom_classes": [],
            "_model_module": "@jupyter-widgets/controls",
            "_model_module_version": "1.5.0",
            "_model_name": "HTMLModel",
            "_view_count": null,
            "_view_module": "@jupyter-widgets/controls",
            "_view_module_version": "1.5.0",
            "_view_name": "HTMLView",
            "description": "",
            "description_tooltip": null,
            "layout": "IPY_MODEL_66e6c8ea11574be5809f4b282bc5a9b3",
            "placeholder": "​",
            "style": "IPY_MODEL_fb6b14feca6f4bc08ae42a6a0495fa7e",
            "value": "Map: 100%"
          }
        },
        "393247c749a5403093558bcf51cd2077": {
          "model_module": "@jupyter-widgets/base",
          "model_module_version": "1.2.0",
          "model_name": "LayoutModel",
          "state": {
            "_model_module": "@jupyter-widgets/base",
            "_model_module_version": "1.2.0",
            "_model_name": "LayoutModel",
            "_view_count": null,
            "_view_module": "@jupyter-widgets/base",
            "_view_module_version": "1.2.0",
            "_view_name": "LayoutView",
            "align_content": null,
            "align_items": null,
            "align_self": null,
            "border": null,
            "bottom": null,
            "display": null,
            "flex": null,
            "flex_flow": null,
            "grid_area": null,
            "grid_auto_columns": null,
            "grid_auto_flow": null,
            "grid_auto_rows": null,
            "grid_column": null,
            "grid_gap": null,
            "grid_row": null,
            "grid_template_areas": null,
            "grid_template_columns": null,
            "grid_template_rows": null,
            "height": null,
            "justify_content": null,
            "justify_items": null,
            "left": null,
            "margin": null,
            "max_height": null,
            "max_width": null,
            "min_height": null,
            "min_width": null,
            "object_fit": null,
            "object_position": null,
            "order": null,
            "overflow": null,
            "overflow_x": null,
            "overflow_y": null,
            "padding": null,
            "right": null,
            "top": null,
            "visibility": null,
            "width": null
          }
        },
        "3a837755bc7f4a14bfdb62037a229ef8": {
          "model_module": "@jupyter-widgets/controls",
          "model_module_version": "1.5.0",
          "model_name": "DescriptionStyleModel",
          "state": {
            "_model_module": "@jupyter-widgets/controls",
            "_model_module_version": "1.5.0",
            "_model_name": "DescriptionStyleModel",
            "_view_count": null,
            "_view_module": "@jupyter-widgets/base",
            "_view_module_version": "1.2.0",
            "_view_name": "StyleView",
            "description_width": ""
          }
        },
        "4360a48a153b46f09f3fe868bffdcc87": {
          "model_module": "@jupyter-widgets/base",
          "model_module_version": "1.2.0",
          "model_name": "LayoutModel",
          "state": {
            "_model_module": "@jupyter-widgets/base",
            "_model_module_version": "1.2.0",
            "_model_name": "LayoutModel",
            "_view_count": null,
            "_view_module": "@jupyter-widgets/base",
            "_view_module_version": "1.2.0",
            "_view_name": "LayoutView",
            "align_content": null,
            "align_items": null,
            "align_self": null,
            "border": null,
            "bottom": null,
            "display": null,
            "flex": null,
            "flex_flow": null,
            "grid_area": null,
            "grid_auto_columns": null,
            "grid_auto_flow": null,
            "grid_auto_rows": null,
            "grid_column": null,
            "grid_gap": null,
            "grid_row": null,
            "grid_template_areas": null,
            "grid_template_columns": null,
            "grid_template_rows": null,
            "height": null,
            "justify_content": null,
            "justify_items": null,
            "left": null,
            "margin": null,
            "max_height": null,
            "max_width": null,
            "min_height": null,
            "min_width": null,
            "object_fit": null,
            "object_position": null,
            "order": null,
            "overflow": null,
            "overflow_x": null,
            "overflow_y": null,
            "padding": null,
            "right": null,
            "top": null,
            "visibility": null,
            "width": null
          }
        },
        "4c86f101d73640bebd986081a1a53dd8": {
          "model_module": "@jupyter-widgets/base",
          "model_module_version": "1.2.0",
          "model_name": "LayoutModel",
          "state": {
            "_model_module": "@jupyter-widgets/base",
            "_model_module_version": "1.2.0",
            "_model_name": "LayoutModel",
            "_view_count": null,
            "_view_module": "@jupyter-widgets/base",
            "_view_module_version": "1.2.0",
            "_view_name": "LayoutView",
            "align_content": null,
            "align_items": null,
            "align_self": null,
            "border": null,
            "bottom": null,
            "display": null,
            "flex": null,
            "flex_flow": null,
            "grid_area": null,
            "grid_auto_columns": null,
            "grid_auto_flow": null,
            "grid_auto_rows": null,
            "grid_column": null,
            "grid_gap": null,
            "grid_row": null,
            "grid_template_areas": null,
            "grid_template_columns": null,
            "grid_template_rows": null,
            "height": null,
            "justify_content": null,
            "justify_items": null,
            "left": null,
            "margin": null,
            "max_height": null,
            "max_width": null,
            "min_height": null,
            "min_width": null,
            "object_fit": null,
            "object_position": null,
            "order": null,
            "overflow": null,
            "overflow_x": null,
            "overflow_y": null,
            "padding": null,
            "right": null,
            "top": null,
            "visibility": "hidden",
            "width": null
          }
        },
        "4da7ce0ad0824ee0abca61bd235aa02d": {
          "model_module": "@jupyter-widgets/base",
          "model_module_version": "1.2.0",
          "model_name": "LayoutModel",
          "state": {
            "_model_module": "@jupyter-widgets/base",
            "_model_module_version": "1.2.0",
            "_model_name": "LayoutModel",
            "_view_count": null,
            "_view_module": "@jupyter-widgets/base",
            "_view_module_version": "1.2.0",
            "_view_name": "LayoutView",
            "align_content": null,
            "align_items": null,
            "align_self": null,
            "border": null,
            "bottom": null,
            "display": null,
            "flex": null,
            "flex_flow": null,
            "grid_area": null,
            "grid_auto_columns": null,
            "grid_auto_flow": null,
            "grid_auto_rows": null,
            "grid_column": null,
            "grid_gap": null,
            "grid_row": null,
            "grid_template_areas": null,
            "grid_template_columns": null,
            "grid_template_rows": null,
            "height": null,
            "justify_content": null,
            "justify_items": null,
            "left": null,
            "margin": null,
            "max_height": null,
            "max_width": null,
            "min_height": null,
            "min_width": null,
            "object_fit": null,
            "object_position": null,
            "order": null,
            "overflow": null,
            "overflow_x": null,
            "overflow_y": null,
            "padding": null,
            "right": null,
            "top": null,
            "visibility": null,
            "width": null
          }
        },
        "50a00b2b2d764edaa377486a0df0fa1d": {
          "model_module": "@jupyter-widgets/controls",
          "model_module_version": "1.5.0",
          "model_name": "HBoxModel",
          "state": {
            "_dom_classes": [],
            "_model_module": "@jupyter-widgets/controls",
            "_model_module_version": "1.5.0",
            "_model_name": "HBoxModel",
            "_view_count": null,
            "_view_module": "@jupyter-widgets/controls",
            "_view_module_version": "1.5.0",
            "_view_name": "HBoxView",
            "box_style": "",
            "children": [
              "IPY_MODEL_0738ed3702444d24937e448de46890f0",
              "IPY_MODEL_cbcbeddb0c534fa39eddc52e6b3081bd",
              "IPY_MODEL_f13ddcfa6bde4fa0bae11486eaa14b2b"
            ],
            "layout": "IPY_MODEL_bd3d376bd6864c2e88c04e24f7cdd1e0"
          }
        },
        "50d0499458ba421aa962036d8ecb1326": {
          "model_module": "@jupyter-widgets/base",
          "model_module_version": "1.2.0",
          "model_name": "LayoutModel",
          "state": {
            "_model_module": "@jupyter-widgets/base",
            "_model_module_version": "1.2.0",
            "_model_name": "LayoutModel",
            "_view_count": null,
            "_view_module": "@jupyter-widgets/base",
            "_view_module_version": "1.2.0",
            "_view_name": "LayoutView",
            "align_content": null,
            "align_items": null,
            "align_self": null,
            "border": null,
            "bottom": null,
            "display": null,
            "flex": null,
            "flex_flow": null,
            "grid_area": null,
            "grid_auto_columns": null,
            "grid_auto_flow": null,
            "grid_auto_rows": null,
            "grid_column": null,
            "grid_gap": null,
            "grid_row": null,
            "grid_template_areas": null,
            "grid_template_columns": null,
            "grid_template_rows": null,
            "height": null,
            "justify_content": null,
            "justify_items": null,
            "left": null,
            "margin": null,
            "max_height": null,
            "max_width": null,
            "min_height": null,
            "min_width": null,
            "object_fit": null,
            "object_position": null,
            "order": null,
            "overflow": null,
            "overflow_x": null,
            "overflow_y": null,
            "padding": null,
            "right": null,
            "top": null,
            "visibility": null,
            "width": null
          }
        },
        "5d1cb39960f347a0afb2031390fa1c8d": {
          "model_module": "@jupyter-widgets/base",
          "model_module_version": "1.2.0",
          "model_name": "LayoutModel",
          "state": {
            "_model_module": "@jupyter-widgets/base",
            "_model_module_version": "1.2.0",
            "_model_name": "LayoutModel",
            "_view_count": null,
            "_view_module": "@jupyter-widgets/base",
            "_view_module_version": "1.2.0",
            "_view_name": "LayoutView",
            "align_content": null,
            "align_items": null,
            "align_self": null,
            "border": null,
            "bottom": null,
            "display": null,
            "flex": null,
            "flex_flow": null,
            "grid_area": null,
            "grid_auto_columns": null,
            "grid_auto_flow": null,
            "grid_auto_rows": null,
            "grid_column": null,
            "grid_gap": null,
            "grid_row": null,
            "grid_template_areas": null,
            "grid_template_columns": null,
            "grid_template_rows": null,
            "height": null,
            "justify_content": null,
            "justify_items": null,
            "left": null,
            "margin": null,
            "max_height": null,
            "max_width": null,
            "min_height": null,
            "min_width": null,
            "object_fit": null,
            "object_position": null,
            "order": null,
            "overflow": null,
            "overflow_x": null,
            "overflow_y": null,
            "padding": null,
            "right": null,
            "top": null,
            "visibility": null,
            "width": null
          }
        },
        "60ac78d041664616b3d91d639d563246": {
          "model_module": "@jupyter-widgets/base",
          "model_module_version": "1.2.0",
          "model_name": "LayoutModel",
          "state": {
            "_model_module": "@jupyter-widgets/base",
            "_model_module_version": "1.2.0",
            "_model_name": "LayoutModel",
            "_view_count": null,
            "_view_module": "@jupyter-widgets/base",
            "_view_module_version": "1.2.0",
            "_view_name": "LayoutView",
            "align_content": null,
            "align_items": null,
            "align_self": null,
            "border": null,
            "bottom": null,
            "display": null,
            "flex": null,
            "flex_flow": null,
            "grid_area": null,
            "grid_auto_columns": null,
            "grid_auto_flow": null,
            "grid_auto_rows": null,
            "grid_column": null,
            "grid_gap": null,
            "grid_row": null,
            "grid_template_areas": null,
            "grid_template_columns": null,
            "grid_template_rows": null,
            "height": null,
            "justify_content": null,
            "justify_items": null,
            "left": null,
            "margin": null,
            "max_height": null,
            "max_width": null,
            "min_height": null,
            "min_width": null,
            "object_fit": null,
            "object_position": null,
            "order": null,
            "overflow": null,
            "overflow_x": null,
            "overflow_y": null,
            "padding": null,
            "right": null,
            "top": null,
            "visibility": null,
            "width": null
          }
        },
        "62f1f8a696cf4ab398c9d286b669362a": {
          "model_module": "@jupyter-widgets/base",
          "model_module_version": "1.2.0",
          "model_name": "LayoutModel",
          "state": {
            "_model_module": "@jupyter-widgets/base",
            "_model_module_version": "1.2.0",
            "_model_name": "LayoutModel",
            "_view_count": null,
            "_view_module": "@jupyter-widgets/base",
            "_view_module_version": "1.2.0",
            "_view_name": "LayoutView",
            "align_content": null,
            "align_items": null,
            "align_self": null,
            "border": null,
            "bottom": null,
            "display": null,
            "flex": null,
            "flex_flow": null,
            "grid_area": null,
            "grid_auto_columns": null,
            "grid_auto_flow": null,
            "grid_auto_rows": null,
            "grid_column": null,
            "grid_gap": null,
            "grid_row": null,
            "grid_template_areas": null,
            "grid_template_columns": null,
            "grid_template_rows": null,
            "height": null,
            "justify_content": null,
            "justify_items": null,
            "left": null,
            "margin": null,
            "max_height": null,
            "max_width": null,
            "min_height": null,
            "min_width": null,
            "object_fit": null,
            "object_position": null,
            "order": null,
            "overflow": null,
            "overflow_x": null,
            "overflow_y": null,
            "padding": null,
            "right": null,
            "top": null,
            "visibility": null,
            "width": null
          }
        },
        "66e6c8ea11574be5809f4b282bc5a9b3": {
          "model_module": "@jupyter-widgets/base",
          "model_module_version": "1.2.0",
          "model_name": "LayoutModel",
          "state": {
            "_model_module": "@jupyter-widgets/base",
            "_model_module_version": "1.2.0",
            "_model_name": "LayoutModel",
            "_view_count": null,
            "_view_module": "@jupyter-widgets/base",
            "_view_module_version": "1.2.0",
            "_view_name": "LayoutView",
            "align_content": null,
            "align_items": null,
            "align_self": null,
            "border": null,
            "bottom": null,
            "display": null,
            "flex": null,
            "flex_flow": null,
            "grid_area": null,
            "grid_auto_columns": null,
            "grid_auto_flow": null,
            "grid_auto_rows": null,
            "grid_column": null,
            "grid_gap": null,
            "grid_row": null,
            "grid_template_areas": null,
            "grid_template_columns": null,
            "grid_template_rows": null,
            "height": null,
            "justify_content": null,
            "justify_items": null,
            "left": null,
            "margin": null,
            "max_height": null,
            "max_width": null,
            "min_height": null,
            "min_width": null,
            "object_fit": null,
            "object_position": null,
            "order": null,
            "overflow": null,
            "overflow_x": null,
            "overflow_y": null,
            "padding": null,
            "right": null,
            "top": null,
            "visibility": null,
            "width": null
          }
        },
        "682affdd1bdb4cfbbb03321a7bbd9995": {
          "model_module": "@jupyter-widgets/controls",
          "model_module_version": "1.5.0",
          "model_name": "DescriptionStyleModel",
          "state": {
            "_model_module": "@jupyter-widgets/controls",
            "_model_module_version": "1.5.0",
            "_model_name": "DescriptionStyleModel",
            "_view_count": null,
            "_view_module": "@jupyter-widgets/base",
            "_view_module_version": "1.2.0",
            "_view_name": "StyleView",
            "description_width": ""
          }
        },
        "6ea7e2475b0b461d8cb29a02bcfa1be6": {
          "model_module": "@jupyter-widgets/controls",
          "model_module_version": "1.5.0",
          "model_name": "HTMLModel",
          "state": {
            "_dom_classes": [],
            "_model_module": "@jupyter-widgets/controls",
            "_model_module_version": "1.5.0",
            "_model_name": "HTMLModel",
            "_view_count": null,
            "_view_module": "@jupyter-widgets/controls",
            "_view_module_version": "1.5.0",
            "_view_name": "HTMLView",
            "description": "",
            "description_tooltip": null,
            "layout": "IPY_MODEL_393247c749a5403093558bcf51cd2077",
            "placeholder": "​",
            "style": "IPY_MODEL_682affdd1bdb4cfbbb03321a7bbd9995",
            "value": " 3363/3363 [00:00&lt;00:00, 3745.66 examples/s]"
          }
        },
        "91751682a9124c83be5af0bff3353ae2": {
          "model_module": "@jupyter-widgets/controls",
          "model_module_version": "1.5.0",
          "model_name": "DescriptionStyleModel",
          "state": {
            "_model_module": "@jupyter-widgets/controls",
            "_model_module_version": "1.5.0",
            "_model_name": "DescriptionStyleModel",
            "_view_count": null,
            "_view_module": "@jupyter-widgets/base",
            "_view_module_version": "1.2.0",
            "_view_name": "StyleView",
            "description_width": ""
          }
        },
        "9c9c2c96eaa04571b8d5cec4d229670c": {
          "model_module": "@jupyter-widgets/controls",
          "model_module_version": "1.5.0",
          "model_name": "FloatProgressModel",
          "state": {
            "_dom_classes": [],
            "_model_module": "@jupyter-widgets/controls",
            "_model_module_version": "1.5.0",
            "_model_name": "FloatProgressModel",
            "_view_count": null,
            "_view_module": "@jupyter-widgets/controls",
            "_view_module_version": "1.5.0",
            "_view_name": "ProgressView",
            "bar_style": "danger",
            "description": "",
            "description_tooltip": null,
            "layout": "IPY_MODEL_60ac78d041664616b3d91d639d563246",
            "max": 3363,
            "min": 0,
            "orientation": "horizontal",
            "style": "IPY_MODEL_26895a733b62438ea91bf668590fd0bd",
            "value": 0
          }
        },
        "9fa97f675dbd46278d7b6ac262ffa102": {
          "model_module": "@jupyter-widgets/controls",
          "model_module_version": "1.5.0",
          "model_name": "FloatProgressModel",
          "state": {
            "_dom_classes": [],
            "_model_module": "@jupyter-widgets/controls",
            "_model_module_version": "1.5.0",
            "_model_name": "FloatProgressModel",
            "_view_count": null,
            "_view_module": "@jupyter-widgets/controls",
            "_view_module_version": "1.5.0",
            "_view_name": "ProgressView",
            "bar_style": "",
            "description": "",
            "description_tooltip": null,
            "layout": "IPY_MODEL_4360a48a153b46f09f3fe868bffdcc87",
            "max": 51,
            "min": 0,
            "orientation": "horizontal",
            "style": "IPY_MODEL_f85e603272ea46b4b3ffdb05f721c450",
            "value": 51
          }
        },
        "a9d6dd93fef2485a8de81de0b04c8b8f": {
          "model_module": "@jupyter-widgets/controls",
          "model_module_version": "1.5.0",
          "model_name": "HTMLModel",
          "state": {
            "_dom_classes": [],
            "_model_module": "@jupyter-widgets/controls",
            "_model_module_version": "1.5.0",
            "_model_name": "HTMLModel",
            "_view_count": null,
            "_view_module": "@jupyter-widgets/controls",
            "_view_module_version": "1.5.0",
            "_view_name": "HTMLView",
            "description": "",
            "description_tooltip": null,
            "layout": "IPY_MODEL_62f1f8a696cf4ab398c9d286b669362a",
            "placeholder": "​",
            "style": "IPY_MODEL_bb333255b8de4a128e722e63adee2525",
            "value": " 0/3363 [06:56&lt;?, ? examples/s]"
          }
        },
        "ae0c2bd525394687a86a88b8cb2c8743": {
          "model_module": "@jupyter-widgets/controls",
          "model_module_version": "1.5.0",
          "model_name": "ProgressStyleModel",
          "state": {
            "_model_module": "@jupyter-widgets/controls",
            "_model_module_version": "1.5.0",
            "_model_name": "ProgressStyleModel",
            "_view_count": null,
            "_view_module": "@jupyter-widgets/base",
            "_view_module_version": "1.2.0",
            "_view_name": "StyleView",
            "bar_color": null,
            "description_width": ""
          }
        },
        "bb333255b8de4a128e722e63adee2525": {
          "model_module": "@jupyter-widgets/controls",
          "model_module_version": "1.5.0",
          "model_name": "DescriptionStyleModel",
          "state": {
            "_model_module": "@jupyter-widgets/controls",
            "_model_module_version": "1.5.0",
            "_model_name": "DescriptionStyleModel",
            "_view_count": null,
            "_view_module": "@jupyter-widgets/base",
            "_view_module_version": "1.2.0",
            "_view_name": "StyleView",
            "description_width": ""
          }
        },
        "bcd4eb667c904296b8d50afe1e4b6044": {
          "model_module": "@jupyter-widgets/base",
          "model_module_version": "1.2.0",
          "model_name": "LayoutModel",
          "state": {
            "_model_module": "@jupyter-widgets/base",
            "_model_module_version": "1.2.0",
            "_model_name": "LayoutModel",
            "_view_count": null,
            "_view_module": "@jupyter-widgets/base",
            "_view_module_version": "1.2.0",
            "_view_name": "LayoutView",
            "align_content": null,
            "align_items": null,
            "align_self": null,
            "border": null,
            "bottom": null,
            "display": null,
            "flex": null,
            "flex_flow": null,
            "grid_area": null,
            "grid_auto_columns": null,
            "grid_auto_flow": null,
            "grid_auto_rows": null,
            "grid_column": null,
            "grid_gap": null,
            "grid_row": null,
            "grid_template_areas": null,
            "grid_template_columns": null,
            "grid_template_rows": null,
            "height": null,
            "justify_content": null,
            "justify_items": null,
            "left": null,
            "margin": null,
            "max_height": null,
            "max_width": null,
            "min_height": null,
            "min_width": null,
            "object_fit": null,
            "object_position": null,
            "order": null,
            "overflow": null,
            "overflow_x": null,
            "overflow_y": null,
            "padding": null,
            "right": null,
            "top": null,
            "visibility": null,
            "width": null
          }
        },
        "bd3d376bd6864c2e88c04e24f7cdd1e0": {
          "model_module": "@jupyter-widgets/base",
          "model_module_version": "1.2.0",
          "model_name": "LayoutModel",
          "state": {
            "_model_module": "@jupyter-widgets/base",
            "_model_module_version": "1.2.0",
            "_model_name": "LayoutModel",
            "_view_count": null,
            "_view_module": "@jupyter-widgets/base",
            "_view_module_version": "1.2.0",
            "_view_name": "LayoutView",
            "align_content": null,
            "align_items": null,
            "align_self": null,
            "border": null,
            "bottom": null,
            "display": null,
            "flex": null,
            "flex_flow": null,
            "grid_area": null,
            "grid_auto_columns": null,
            "grid_auto_flow": null,
            "grid_auto_rows": null,
            "grid_column": null,
            "grid_gap": null,
            "grid_row": null,
            "grid_template_areas": null,
            "grid_template_columns": null,
            "grid_template_rows": null,
            "height": null,
            "justify_content": null,
            "justify_items": null,
            "left": null,
            "margin": null,
            "max_height": null,
            "max_width": null,
            "min_height": null,
            "min_width": null,
            "object_fit": null,
            "object_position": null,
            "order": null,
            "overflow": null,
            "overflow_x": null,
            "overflow_y": null,
            "padding": null,
            "right": null,
            "top": null,
            "visibility": null,
            "width": null
          }
        },
        "c560ca57e31a4811b9ae5641faf2405f": {
          "model_module": "@jupyter-widgets/controls",
          "model_module_version": "1.5.0",
          "model_name": "FloatProgressModel",
          "state": {
            "_dom_classes": [],
            "_model_module": "@jupyter-widgets/controls",
            "_model_module_version": "1.5.0",
            "_model_name": "FloatProgressModel",
            "_view_count": null,
            "_view_module": "@jupyter-widgets/controls",
            "_view_module_version": "1.5.0",
            "_view_name": "ProgressView",
            "bar_style": "",
            "description": "",
            "description_tooltip": null,
            "layout": "IPY_MODEL_4da7ce0ad0824ee0abca61bd235aa02d",
            "max": 3363,
            "min": 0,
            "orientation": "horizontal",
            "style": "IPY_MODEL_ae0c2bd525394687a86a88b8cb2c8743",
            "value": 3363
          }
        },
        "cb9fdc8106aa4e28b3ab0c055ef82b83": {
          "model_module": "@jupyter-widgets/controls",
          "model_module_version": "1.5.0",
          "model_name": "HBoxModel",
          "state": {
            "_dom_classes": [],
            "_model_module": "@jupyter-widgets/controls",
            "_model_module_version": "1.5.0",
            "_model_name": "HBoxModel",
            "_view_count": null,
            "_view_module": "@jupyter-widgets/controls",
            "_view_module_version": "1.5.0",
            "_view_name": "HBoxView",
            "box_style": "",
            "children": [
              "IPY_MODEL_cc9cf3863ad54dffbc07a9c1e75e89eb",
              "IPY_MODEL_9fa97f675dbd46278d7b6ac262ffa102",
              "IPY_MODEL_f9872a20982947c7b35068f6aa718bba"
            ],
            "layout": "IPY_MODEL_1be830e44eef4220b72cfe9c045d770d"
          }
        },
        "cbcbeddb0c534fa39eddc52e6b3081bd": {
          "model_module": "@jupyter-widgets/controls",
          "model_module_version": "1.5.0",
          "model_name": "FloatProgressModel",
          "state": {
            "_dom_classes": [],
            "_model_module": "@jupyter-widgets/controls",
            "_model_module_version": "1.5.0",
            "_model_name": "FloatProgressModel",
            "_view_count": null,
            "_view_module": "@jupyter-widgets/controls",
            "_view_module_version": "1.5.0",
            "_view_name": "ProgressView",
            "bar_style": "success",
            "description": "",
            "description_tooltip": null,
            "layout": "IPY_MODEL_e645eef64e1640f8a81a83596a97bbb5",
            "max": 2,
            "min": 0,
            "orientation": "horizontal",
            "style": "IPY_MODEL_3314537d3297403eb325be8f65f4ea63",
            "value": 2
          }
        },
        "cc9cf3863ad54dffbc07a9c1e75e89eb": {
          "model_module": "@jupyter-widgets/controls",
          "model_module_version": "1.5.0",
          "model_name": "HTMLModel",
          "state": {
            "_dom_classes": [],
            "_model_module": "@jupyter-widgets/controls",
            "_model_module_version": "1.5.0",
            "_model_name": "HTMLModel",
            "_view_count": null,
            "_view_module": "@jupyter-widgets/controls",
            "_view_module_version": "1.5.0",
            "_view_name": "HTMLView",
            "description": "",
            "description_tooltip": null,
            "layout": "IPY_MODEL_bcd4eb667c904296b8d50afe1e4b6044",
            "placeholder": "​",
            "style": "IPY_MODEL_3a837755bc7f4a14bfdb62037a229ef8",
            "value": "Map:   0%"
          }
        },
        "d1aa0e8c2c184c85a005e00ec15095d1": {
          "model_module": "@jupyter-widgets/controls",
          "model_module_version": "1.5.0",
          "model_name": "DescriptionStyleModel",
          "state": {
            "_model_module": "@jupyter-widgets/controls",
            "_model_module_version": "1.5.0",
            "_model_name": "DescriptionStyleModel",
            "_view_count": null,
            "_view_module": "@jupyter-widgets/base",
            "_view_module_version": "1.2.0",
            "_view_name": "StyleView",
            "description_width": ""
          }
        },
        "e0df6bcc6e4d422d83376192e18f81b8": {
          "model_module": "@jupyter-widgets/base",
          "model_module_version": "1.2.0",
          "model_name": "LayoutModel",
          "state": {
            "_model_module": "@jupyter-widgets/base",
            "_model_module_version": "1.2.0",
            "_model_name": "LayoutModel",
            "_view_count": null,
            "_view_module": "@jupyter-widgets/base",
            "_view_module_version": "1.2.0",
            "_view_name": "LayoutView",
            "align_content": null,
            "align_items": null,
            "align_self": null,
            "border": null,
            "bottom": null,
            "display": null,
            "flex": null,
            "flex_flow": null,
            "grid_area": null,
            "grid_auto_columns": null,
            "grid_auto_flow": null,
            "grid_auto_rows": null,
            "grid_column": null,
            "grid_gap": null,
            "grid_row": null,
            "grid_template_areas": null,
            "grid_template_columns": null,
            "grid_template_rows": null,
            "height": null,
            "justify_content": null,
            "justify_items": null,
            "left": null,
            "margin": null,
            "max_height": null,
            "max_width": null,
            "min_height": null,
            "min_width": null,
            "object_fit": null,
            "object_position": null,
            "order": null,
            "overflow": null,
            "overflow_x": null,
            "overflow_y": null,
            "padding": null,
            "right": null,
            "top": null,
            "visibility": null,
            "width": null
          }
        },
        "e645eef64e1640f8a81a83596a97bbb5": {
          "model_module": "@jupyter-widgets/base",
          "model_module_version": "1.2.0",
          "model_name": "LayoutModel",
          "state": {
            "_model_module": "@jupyter-widgets/base",
            "_model_module_version": "1.2.0",
            "_model_name": "LayoutModel",
            "_view_count": null,
            "_view_module": "@jupyter-widgets/base",
            "_view_module_version": "1.2.0",
            "_view_name": "LayoutView",
            "align_content": null,
            "align_items": null,
            "align_self": null,
            "border": null,
            "bottom": null,
            "display": null,
            "flex": null,
            "flex_flow": null,
            "grid_area": null,
            "grid_auto_columns": null,
            "grid_auto_flow": null,
            "grid_auto_rows": null,
            "grid_column": null,
            "grid_gap": null,
            "grid_row": null,
            "grid_template_areas": null,
            "grid_template_columns": null,
            "grid_template_rows": null,
            "height": null,
            "justify_content": null,
            "justify_items": null,
            "left": null,
            "margin": null,
            "max_height": null,
            "max_width": null,
            "min_height": null,
            "min_width": null,
            "object_fit": null,
            "object_position": null,
            "order": null,
            "overflow": null,
            "overflow_x": null,
            "overflow_y": null,
            "padding": null,
            "right": null,
            "top": null,
            "visibility": null,
            "width": null
          }
        },
        "e66054f45bc7404eafa0f7df8b9e90b6": {
          "model_module": "@jupyter-widgets/base",
          "model_module_version": "1.2.0",
          "model_name": "LayoutModel",
          "state": {
            "_model_module": "@jupyter-widgets/base",
            "_model_module_version": "1.2.0",
            "_model_name": "LayoutModel",
            "_view_count": null,
            "_view_module": "@jupyter-widgets/base",
            "_view_module_version": "1.2.0",
            "_view_name": "LayoutView",
            "align_content": null,
            "align_items": null,
            "align_self": null,
            "border": null,
            "bottom": null,
            "display": null,
            "flex": null,
            "flex_flow": null,
            "grid_area": null,
            "grid_auto_columns": null,
            "grid_auto_flow": null,
            "grid_auto_rows": null,
            "grid_column": null,
            "grid_gap": null,
            "grid_row": null,
            "grid_template_areas": null,
            "grid_template_columns": null,
            "grid_template_rows": null,
            "height": null,
            "justify_content": null,
            "justify_items": null,
            "left": null,
            "margin": null,
            "max_height": null,
            "max_width": null,
            "min_height": null,
            "min_width": null,
            "object_fit": null,
            "object_position": null,
            "order": null,
            "overflow": null,
            "overflow_x": null,
            "overflow_y": null,
            "padding": null,
            "right": null,
            "top": null,
            "visibility": null,
            "width": null
          }
        },
        "f13ddcfa6bde4fa0bae11486eaa14b2b": {
          "model_module": "@jupyter-widgets/controls",
          "model_module_version": "1.5.0",
          "model_name": "HTMLModel",
          "state": {
            "_dom_classes": [],
            "_model_module": "@jupyter-widgets/controls",
            "_model_module_version": "1.5.0",
            "_model_name": "HTMLModel",
            "_view_count": null,
            "_view_module": "@jupyter-widgets/controls",
            "_view_module_version": "1.5.0",
            "_view_name": "HTMLView",
            "description": "",
            "description_tooltip": null,
            "layout": "IPY_MODEL_50d0499458ba421aa962036d8ecb1326",
            "placeholder": "​",
            "style": "IPY_MODEL_fcb2b4a28bfd417ab92581e638e5e398",
            "value": " 2/2 [00:00&lt;00:00, 37.47it/s]"
          }
        },
        "f85e603272ea46b4b3ffdb05f721c450": {
          "model_module": "@jupyter-widgets/controls",
          "model_module_version": "1.5.0",
          "model_name": "ProgressStyleModel",
          "state": {
            "_model_module": "@jupyter-widgets/controls",
            "_model_module_version": "1.5.0",
            "_model_name": "ProgressStyleModel",
            "_view_count": null,
            "_view_module": "@jupyter-widgets/base",
            "_view_module_version": "1.2.0",
            "_view_name": "StyleView",
            "bar_color": null,
            "description_width": ""
          }
        },
        "f9872a20982947c7b35068f6aa718bba": {
          "model_module": "@jupyter-widgets/controls",
          "model_module_version": "1.5.0",
          "model_name": "HTMLModel",
          "state": {
            "_dom_classes": [],
            "_model_module": "@jupyter-widgets/controls",
            "_model_module_version": "1.5.0",
            "_model_name": "HTMLModel",
            "_view_count": null,
            "_view_module": "@jupyter-widgets/controls",
            "_view_module_version": "1.5.0",
            "_view_name": "HTMLView",
            "description": "",
            "description_tooltip": null,
            "layout": "IPY_MODEL_32b428d336394d4fa0c9f0797d488a5b",
            "placeholder": "​",
            "style": "IPY_MODEL_291a06e505c541c69c41ad45593239a3",
            "value": " 0/51 [00:00&lt;?, ? examples/s]"
          }
        },
        "fb6b14feca6f4bc08ae42a6a0495fa7e": {
          "model_module": "@jupyter-widgets/controls",
          "model_module_version": "1.5.0",
          "model_name": "DescriptionStyleModel",
          "state": {
            "_model_module": "@jupyter-widgets/controls",
            "_model_module_version": "1.5.0",
            "_model_name": "DescriptionStyleModel",
            "_view_count": null,
            "_view_module": "@jupyter-widgets/base",
            "_view_module_version": "1.2.0",
            "_view_name": "StyleView",
            "description_width": ""
          }
        },
        "fcb2b4a28bfd417ab92581e638e5e398": {
          "model_module": "@jupyter-widgets/controls",
          "model_module_version": "1.5.0",
          "model_name": "DescriptionStyleModel",
          "state": {
            "_model_module": "@jupyter-widgets/controls",
            "_model_module_version": "1.5.0",
            "_model_name": "DescriptionStyleModel",
            "_view_count": null,
            "_view_module": "@jupyter-widgets/base",
            "_view_module_version": "1.2.0",
            "_view_name": "StyleView",
            "description_width": ""
          }
        }
      }
    }
  },
  "nbformat": 4,
  "nbformat_minor": 0
}
